{
 "cells": [
  {
   "cell_type": "code",
   "execution_count": 38,
   "outputs": [],
   "source": [
    "from PIL import Image\n",
    "from torchvision import transforms, models\n",
    "from model.model import Model\n",
    "import matplotlib.pyplot as plt\n",
    "import math\n",
    "import numpy as np\n",
    "import torch"
   ],
   "metadata": {
    "collapsed": false,
    "ExecuteTime": {
     "end_time": "2023-11-09T20:35:31.771291147Z",
     "start_time": "2023-11-09T20:35:31.719725736Z"
    }
   },
   "id": "b841b1dede862512"
  },
  {
   "cell_type": "code",
   "execution_count": 39,
   "outputs": [
    {
     "name": "stderr",
     "output_type": "stream",
     "text": [
      "/home/witek/anaconda3/envs/main/lib/python3.10/site-packages/PIL/Image.py:3157: DecompressionBombWarning: Image size (136314880 pixels) exceeds limit of 89478485 pixels, could be decompression bomb DOS attack.\n",
      "  warnings.warn(\n"
     ]
    }
   ],
   "source": [
    "im = Image.open('images/sacz.tif')\n",
    "im = im.crop((2000, 2000, 8000, 8000))\n",
    "im.show()\n",
    "im.save('sacz2.tif')"
   ],
   "metadata": {
    "collapsed": false,
    "ExecuteTime": {
     "end_time": "2023-11-09T20:35:41.801533125Z",
     "start_time": "2023-11-09T20:35:31.760938963Z"
    }
   },
   "id": "d743a4e72ebe6144"
  },
  {
   "cell_type": "code",
   "execution_count": 40,
   "outputs": [],
   "source": [
    "test_val_transforms = transforms.Compose([\n",
    "    transforms.ToTensor(),\n",
    "#     transforms.Normalize(mean=[0.485, 0.456, 0.406], std=[0.229, 0.224, 0.225]),\n",
    "])"
   ],
   "metadata": {
    "collapsed": false,
    "ExecuteTime": {
     "end_time": "2023-11-09T20:35:41.813676205Z",
     "start_time": "2023-11-09T20:35:41.803267665Z"
    }
   },
   "id": "921fce07ae86ec93"
  },
  {
   "cell_type": "code",
   "execution_count": 41,
   "outputs": [
    {
     "name": "stderr",
     "output_type": "stream",
     "text": [
      "Using cache found in /home/witek/.cache/torch/hub/pytorch_vision_v0.10.0\n",
      "/home/witek/anaconda3/envs/main/lib/python3.10/site-packages/torchvision/models/_utils.py:208: UserWarning: The parameter 'pretrained' is deprecated since 0.13 and may be removed in the future, please use 'weights' instead.\n",
      "  warnings.warn(\n",
      "/home/witek/anaconda3/envs/main/lib/python3.10/site-packages/torchvision/models/_utils.py:223: UserWarning: Arguments other than a weight enum or `None` for 'weights' are deprecated since 0.13 and may be removed in the future. The current behavior is equivalent to passing `weights=ResNet34_Weights.IMAGENET1K_V1`. You can also use `weights=ResNet34_Weights.DEFAULT` to get the most up-to-date weights.\n",
      "  warnings.warn(msg)\n"
     ]
    },
    {
     "data": {
      "text/plain": "Model(\n  (base): ResNet(\n    (conv1): Conv2d(3, 64, kernel_size=(7, 7), stride=(2, 2), padding=(3, 3), bias=False)\n    (bn1): BatchNorm2d(64, eps=1e-05, momentum=0.1, affine=True, track_running_stats=True)\n    (relu): ReLU(inplace=True)\n    (maxpool): MaxPool2d(kernel_size=3, stride=2, padding=1, dilation=1, ceil_mode=False)\n    (layer1): Sequential(\n      (0): BasicBlock(\n        (conv1): Conv2d(64, 64, kernel_size=(3, 3), stride=(1, 1), padding=(1, 1), bias=False)\n        (bn1): BatchNorm2d(64, eps=1e-05, momentum=0.1, affine=True, track_running_stats=True)\n        (relu): ReLU(inplace=True)\n        (conv2): Conv2d(64, 64, kernel_size=(3, 3), stride=(1, 1), padding=(1, 1), bias=False)\n        (bn2): BatchNorm2d(64, eps=1e-05, momentum=0.1, affine=True, track_running_stats=True)\n      )\n      (1): BasicBlock(\n        (conv1): Conv2d(64, 64, kernel_size=(3, 3), stride=(1, 1), padding=(1, 1), bias=False)\n        (bn1): BatchNorm2d(64, eps=1e-05, momentum=0.1, affine=True, track_running_stats=True)\n        (relu): ReLU(inplace=True)\n        (conv2): Conv2d(64, 64, kernel_size=(3, 3), stride=(1, 1), padding=(1, 1), bias=False)\n        (bn2): BatchNorm2d(64, eps=1e-05, momentum=0.1, affine=True, track_running_stats=True)\n      )\n      (2): BasicBlock(\n        (conv1): Conv2d(64, 64, kernel_size=(3, 3), stride=(1, 1), padding=(1, 1), bias=False)\n        (bn1): BatchNorm2d(64, eps=1e-05, momentum=0.1, affine=True, track_running_stats=True)\n        (relu): ReLU(inplace=True)\n        (conv2): Conv2d(64, 64, kernel_size=(3, 3), stride=(1, 1), padding=(1, 1), bias=False)\n        (bn2): BatchNorm2d(64, eps=1e-05, momentum=0.1, affine=True, track_running_stats=True)\n      )\n    )\n    (layer2): Sequential(\n      (0): BasicBlock(\n        (conv1): Conv2d(64, 128, kernel_size=(3, 3), stride=(2, 2), padding=(1, 1), bias=False)\n        (bn1): BatchNorm2d(128, eps=1e-05, momentum=0.1, affine=True, track_running_stats=True)\n        (relu): ReLU(inplace=True)\n        (conv2): Conv2d(128, 128, kernel_size=(3, 3), stride=(1, 1), padding=(1, 1), bias=False)\n        (bn2): BatchNorm2d(128, eps=1e-05, momentum=0.1, affine=True, track_running_stats=True)\n        (downsample): Sequential(\n          (0): Conv2d(64, 128, kernel_size=(1, 1), stride=(2, 2), bias=False)\n          (1): BatchNorm2d(128, eps=1e-05, momentum=0.1, affine=True, track_running_stats=True)\n        )\n      )\n      (1): BasicBlock(\n        (conv1): Conv2d(128, 128, kernel_size=(3, 3), stride=(1, 1), padding=(1, 1), bias=False)\n        (bn1): BatchNorm2d(128, eps=1e-05, momentum=0.1, affine=True, track_running_stats=True)\n        (relu): ReLU(inplace=True)\n        (conv2): Conv2d(128, 128, kernel_size=(3, 3), stride=(1, 1), padding=(1, 1), bias=False)\n        (bn2): BatchNorm2d(128, eps=1e-05, momentum=0.1, affine=True, track_running_stats=True)\n      )\n      (2): BasicBlock(\n        (conv1): Conv2d(128, 128, kernel_size=(3, 3), stride=(1, 1), padding=(1, 1), bias=False)\n        (bn1): BatchNorm2d(128, eps=1e-05, momentum=0.1, affine=True, track_running_stats=True)\n        (relu): ReLU(inplace=True)\n        (conv2): Conv2d(128, 128, kernel_size=(3, 3), stride=(1, 1), padding=(1, 1), bias=False)\n        (bn2): BatchNorm2d(128, eps=1e-05, momentum=0.1, affine=True, track_running_stats=True)\n      )\n      (3): BasicBlock(\n        (conv1): Conv2d(128, 128, kernel_size=(3, 3), stride=(1, 1), padding=(1, 1), bias=False)\n        (bn1): BatchNorm2d(128, eps=1e-05, momentum=0.1, affine=True, track_running_stats=True)\n        (relu): ReLU(inplace=True)\n        (conv2): Conv2d(128, 128, kernel_size=(3, 3), stride=(1, 1), padding=(1, 1), bias=False)\n        (bn2): BatchNorm2d(128, eps=1e-05, momentum=0.1, affine=True, track_running_stats=True)\n      )\n    )\n    (layer3): Sequential(\n      (0): BasicBlock(\n        (conv1): Conv2d(128, 256, kernel_size=(3, 3), stride=(2, 2), padding=(1, 1), bias=False)\n        (bn1): BatchNorm2d(256, eps=1e-05, momentum=0.1, affine=True, track_running_stats=True)\n        (relu): ReLU(inplace=True)\n        (conv2): Conv2d(256, 256, kernel_size=(3, 3), stride=(1, 1), padding=(1, 1), bias=False)\n        (bn2): BatchNorm2d(256, eps=1e-05, momentum=0.1, affine=True, track_running_stats=True)\n        (downsample): Sequential(\n          (0): Conv2d(128, 256, kernel_size=(1, 1), stride=(2, 2), bias=False)\n          (1): BatchNorm2d(256, eps=1e-05, momentum=0.1, affine=True, track_running_stats=True)\n        )\n      )\n      (1): BasicBlock(\n        (conv1): Conv2d(256, 256, kernel_size=(3, 3), stride=(1, 1), padding=(1, 1), bias=False)\n        (bn1): BatchNorm2d(256, eps=1e-05, momentum=0.1, affine=True, track_running_stats=True)\n        (relu): ReLU(inplace=True)\n        (conv2): Conv2d(256, 256, kernel_size=(3, 3), stride=(1, 1), padding=(1, 1), bias=False)\n        (bn2): BatchNorm2d(256, eps=1e-05, momentum=0.1, affine=True, track_running_stats=True)\n      )\n      (2): BasicBlock(\n        (conv1): Conv2d(256, 256, kernel_size=(3, 3), stride=(1, 1), padding=(1, 1), bias=False)\n        (bn1): BatchNorm2d(256, eps=1e-05, momentum=0.1, affine=True, track_running_stats=True)\n        (relu): ReLU(inplace=True)\n        (conv2): Conv2d(256, 256, kernel_size=(3, 3), stride=(1, 1), padding=(1, 1), bias=False)\n        (bn2): BatchNorm2d(256, eps=1e-05, momentum=0.1, affine=True, track_running_stats=True)\n      )\n      (3): BasicBlock(\n        (conv1): Conv2d(256, 256, kernel_size=(3, 3), stride=(1, 1), padding=(1, 1), bias=False)\n        (bn1): BatchNorm2d(256, eps=1e-05, momentum=0.1, affine=True, track_running_stats=True)\n        (relu): ReLU(inplace=True)\n        (conv2): Conv2d(256, 256, kernel_size=(3, 3), stride=(1, 1), padding=(1, 1), bias=False)\n        (bn2): BatchNorm2d(256, eps=1e-05, momentum=0.1, affine=True, track_running_stats=True)\n      )\n      (4): BasicBlock(\n        (conv1): Conv2d(256, 256, kernel_size=(3, 3), stride=(1, 1), padding=(1, 1), bias=False)\n        (bn1): BatchNorm2d(256, eps=1e-05, momentum=0.1, affine=True, track_running_stats=True)\n        (relu): ReLU(inplace=True)\n        (conv2): Conv2d(256, 256, kernel_size=(3, 3), stride=(1, 1), padding=(1, 1), bias=False)\n        (bn2): BatchNorm2d(256, eps=1e-05, momentum=0.1, affine=True, track_running_stats=True)\n      )\n      (5): BasicBlock(\n        (conv1): Conv2d(256, 256, kernel_size=(3, 3), stride=(1, 1), padding=(1, 1), bias=False)\n        (bn1): BatchNorm2d(256, eps=1e-05, momentum=0.1, affine=True, track_running_stats=True)\n        (relu): ReLU(inplace=True)\n        (conv2): Conv2d(256, 256, kernel_size=(3, 3), stride=(1, 1), padding=(1, 1), bias=False)\n        (bn2): BatchNorm2d(256, eps=1e-05, momentum=0.1, affine=True, track_running_stats=True)\n      )\n    )\n    (layer4): Sequential(\n      (0): BasicBlock(\n        (conv1): Conv2d(256, 512, kernel_size=(3, 3), stride=(2, 2), padding=(1, 1), bias=False)\n        (bn1): BatchNorm2d(512, eps=1e-05, momentum=0.1, affine=True, track_running_stats=True)\n        (relu): ReLU(inplace=True)\n        (conv2): Conv2d(512, 512, kernel_size=(3, 3), stride=(1, 1), padding=(1, 1), bias=False)\n        (bn2): BatchNorm2d(512, eps=1e-05, momentum=0.1, affine=True, track_running_stats=True)\n        (downsample): Sequential(\n          (0): Conv2d(256, 512, kernel_size=(1, 1), stride=(2, 2), bias=False)\n          (1): BatchNorm2d(512, eps=1e-05, momentum=0.1, affine=True, track_running_stats=True)\n        )\n      )\n      (1): BasicBlock(\n        (conv1): Conv2d(512, 512, kernel_size=(3, 3), stride=(1, 1), padding=(1, 1), bias=False)\n        (bn1): BatchNorm2d(512, eps=1e-05, momentum=0.1, affine=True, track_running_stats=True)\n        (relu): ReLU(inplace=True)\n        (conv2): Conv2d(512, 512, kernel_size=(3, 3), stride=(1, 1), padding=(1, 1), bias=False)\n        (bn2): BatchNorm2d(512, eps=1e-05, momentum=0.1, affine=True, track_running_stats=True)\n      )\n      (2): BasicBlock(\n        (conv1): Conv2d(512, 512, kernel_size=(3, 3), stride=(1, 1), padding=(1, 1), bias=False)\n        (bn1): BatchNorm2d(512, eps=1e-05, momentum=0.1, affine=True, track_running_stats=True)\n        (relu): ReLU(inplace=True)\n        (conv2): Conv2d(512, 512, kernel_size=(3, 3), stride=(1, 1), padding=(1, 1), bias=False)\n        (bn2): BatchNorm2d(512, eps=1e-05, momentum=0.1, affine=True, track_running_stats=True)\n      )\n    )\n    (avgpool): AdaptiveAvgPool2d(output_size=(1, 1))\n    (fc): Linear(in_features=512, out_features=1000, bias=True)\n  )\n  (hidden1): Linear(in_features=1000, out_features=512, bias=True)\n  (bn1): BatchNorm1d(512, eps=1e-05, momentum=0.1, affine=True, track_running_stats=True)\n  (hidden2): Linear(in_features=512, out_features=256, bias=True)\n  (bn2): BatchNorm1d(256, eps=1e-05, momentum=0.1, affine=True, track_running_stats=True)\n  (hidden3): Linear(in_features=256, out_features=128, bias=True)\n  (bn3): BatchNorm1d(128, eps=1e-05, momentum=0.1, affine=True, track_running_stats=True)\n  (out): Linear(in_features=128, out_features=1, bias=True)\n  (sig): Sigmoid()\n  (dropout): Dropout(p=0.5, inplace=False)\n)"
     },
     "execution_count": 41,
     "metadata": {},
     "output_type": "execute_result"
    }
   ],
   "source": [
    "model = Model()\n",
    "model.load_state_dict(torch.load('model/model.pth', map_location=torch.device('cpu')))\n",
    "model.eval()"
   ],
   "metadata": {
    "collapsed": false,
    "ExecuteTime": {
     "end_time": "2023-11-09T20:35:42.057572328Z",
     "start_time": "2023-11-09T20:35:41.807571168Z"
    }
   },
   "id": "c9fad999bbb922d2"
  },
  {
   "cell_type": "code",
   "execution_count": 42,
   "outputs": [],
   "source": [
    "# ni = 10\n",
    "# \n",
    "# preds = [model(transforms(image).unsqueeze(0)) for image in images[:ni]]\n",
    "# \n",
    "# fig, ax = plt.subplots(1, ni, figsize=(20, 20))\n",
    "# for i, pred, image in zip(range(ni), [round(pred.item()) for pred in preds], images[:ni]):\n",
    "#     ax[i].imshow(image)\n",
    "#     ax[i].set_title(pred)\n",
    "#     ax[i].axis('off')\n",
    "# \n",
    "# plt.show()"
   ],
   "metadata": {
    "collapsed": false,
    "ExecuteTime": {
     "end_time": "2023-11-09T20:35:42.057872992Z",
     "start_time": "2023-11-09T20:35:42.052818755Z"
    }
   },
   "id": "60552c56d569b38b"
  },
  {
   "cell_type": "code",
   "execution_count": 43,
   "outputs": [],
   "source": [
    "def classify_image(image):\n",
    "    return round(model(transforms(image).unsqueeze(0)).item())\n",
    "\n",
    "def make_red(image):\n",
    "    image = np.array(image)\n",
    "    image[:, : , 0] = np.full(image[:, : , 0].shape, 255)\n",
    "    image = Image.fromarray(image)\n",
    "    return image"
   ],
   "metadata": {
    "collapsed": false,
    "ExecuteTime": {
     "end_time": "2023-11-09T20:35:42.057967694Z",
     "start_time": "2023-11-09T20:35:42.052947528Z"
    }
   },
   "id": "f84a60ce2e425760"
  },
  {
   "cell_type": "code",
   "execution_count": 46,
   "outputs": [
    {
     "name": "stdout",
     "output_type": "stream",
     "text": [
      "0/6000\n",
      "50/6000\n",
      "100/6000\n",
      "150/6000\n",
      "200/6000\n",
      "250/6000\n",
      "300/6000\n",
      "350/6000\n",
      "400/6000\n",
      "450/6000\n",
      "500/6000\n",
      "550/6000\n",
      "600/6000\n",
      "650/6000\n",
      "700/6000\n",
      "750/6000\n",
      "800/6000\n",
      "850/6000\n",
      "900/6000\n",
      "950/6000\n",
      "1000/6000\n",
      "1050/6000\n",
      "1100/6000\n",
      "1150/6000\n",
      "1200/6000\n",
      "1250/6000\n",
      "1300/6000\n",
      "1350/6000\n",
      "1400/6000\n",
      "1450/6000\n",
      "1500/6000\n",
      "1550/6000\n",
      "1600/6000\n",
      "1650/6000\n",
      "1700/6000\n",
      "1750/6000\n",
      "1800/6000\n",
      "1850/6000\n",
      "1900/6000\n",
      "1950/6000\n",
      "2000/6000\n",
      "2050/6000\n",
      "2100/6000\n",
      "2150/6000\n",
      "2200/6000\n",
      "2250/6000\n",
      "2300/6000\n",
      "2350/6000\n",
      "2400/6000\n",
      "2450/6000\n",
      "2500/6000\n",
      "2550/6000\n",
      "2600/6000\n",
      "2650/6000\n",
      "2700/6000\n",
      "2750/6000\n",
      "2800/6000\n",
      "2850/6000\n",
      "2900/6000\n",
      "2950/6000\n",
      "3000/6000\n",
      "3050/6000\n",
      "3100/6000\n",
      "3150/6000\n",
      "3200/6000\n",
      "3250/6000\n",
      "3300/6000\n",
      "3350/6000\n",
      "3400/6000\n",
      "3450/6000\n",
      "3500/6000\n",
      "3550/6000\n",
      "3600/6000\n",
      "3650/6000\n",
      "3700/6000\n",
      "3750/6000\n",
      "3800/6000\n",
      "3850/6000\n",
      "3900/6000\n",
      "3950/6000\n",
      "4000/6000\n",
      "4050/6000\n",
      "4100/6000\n",
      "4150/6000\n",
      "4200/6000\n",
      "4250/6000\n",
      "4300/6000\n",
      "4350/6000\n",
      "4400/6000\n",
      "4450/6000\n",
      "4500/6000\n",
      "4550/6000\n",
      "4600/6000\n",
      "4650/6000\n",
      "4700/6000\n",
      "4750/6000\n",
      "4800/6000\n",
      "4850/6000\n",
      "4900/6000\n",
      "4950/6000\n",
      "5000/6000\n",
      "5050/6000\n",
      "5100/6000\n",
      "5150/6000\n",
      "5200/6000\n",
      "5250/6000\n",
      "5300/6000\n",
      "5350/6000\n",
      "5400/6000\n",
      "5450/6000\n",
      "5500/6000\n",
      "5550/6000\n",
      "5600/6000\n",
      "5650/6000\n",
      "5700/6000\n",
      "5750/6000\n",
      "5800/6000\n",
      "5850/6000\n",
      "5900/6000\n",
      "5950/6000\n"
     ]
    }
   ],
   "source": [
    "def classify_image(image):\n",
    "    return round(model(test_val_transforms(image).unsqueeze(0)).item())\n",
    "\n",
    "def make_red(image):\n",
    "    image = np.array(image)\n",
    "    image[:, : , 0] = np.full(image[:, : , 0].shape, 255)\n",
    "    image = Image.fromarray(image)\n",
    "    return image\n",
    "\n",
    "tile_size = 50\n",
    "new_image = Image.new(\"RGB\", im.size)\n",
    "\n",
    "slices = []\n",
    "for i in range(0, im.size[0], tile_size):\n",
    "    print(f'{i}/{im.size[0]}')\n",
    "    for j in range(0, im.size[1], tile_size):\n",
    "        slice = im.crop((i, j, i+tile_size, j+tile_size))\n",
    "        if classify_image(slice):\n",
    "            slice = make_red(slice)\n",
    "        new_image.paste(slice, (i, j))\n",
    "        \n",
    "new_image.show()\n",
    "new_image.save('images/nsmap.tif')"
   ],
   "metadata": {
    "collapsed": false,
    "ExecuteTime": {
     "end_time": "2023-11-09T20:38:46.833425299Z",
     "start_time": "2023-11-09T20:36:30.319400343Z"
    }
   },
   "id": "ecce5b6f78043a81"
  },
  {
   "cell_type": "code",
   "execution_count": null,
   "outputs": [],
   "source": [],
   "metadata": {
    "collapsed": false,
    "ExecuteTime": {
     "start_time": "2023-11-09T20:35:42.096710450Z"
    }
   },
   "id": "1cf79204f8537597"
  }
 ],
 "metadata": {
  "kernelspec": {
   "display_name": "Python 3",
   "language": "python",
   "name": "python3"
  },
  "language_info": {
   "codemirror_mode": {
    "name": "ipython",
    "version": 2
   },
   "file_extension": ".py",
   "mimetype": "text/x-python",
   "name": "python",
   "nbconvert_exporter": "python",
   "pygments_lexer": "ipython2",
   "version": "2.7.6"
  }
 },
 "nbformat": 4,
 "nbformat_minor": 5
}

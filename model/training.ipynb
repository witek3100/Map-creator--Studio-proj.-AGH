{
 "metadata": {
  "kernelspec": {
   "language": "python",
   "display_name": "Python 3",
   "name": "python3"
  },
  "language_info": {
   "name": "python",
   "version": "3.10.12",
   "mimetype": "text/x-python",
   "codemirror_mode": {
    "name": "ipython",
    "version": 3
   },
   "pygments_lexer": "ipython3",
   "nbconvert_exporter": "python",
   "file_extension": ".py"
  }
 },
 "nbformat_minor": 4,
 "nbformat": 4,
 "cells": [
  {
   "cell_type": "code",
   "source": [
    "import os\n",
    "import pandas as pd\n",
    "import numpy as np\n",
    "from PIL import Image\n",
    "from matplotlib import image as img\n",
    "from matplotlib import pyplot as plt\n",
    "import json\n",
    "\n",
    "import torch\n",
    "from torch.nn import Module\n",
    "from torch.utils.data import Dataset, DataLoader\n",
    "!pip install torchsummary\n",
    "from torchsummary import summary\n",
    "from torchvision import transforms, models"
   ],
   "metadata": {
    "execution": {
     "iopub.status.busy": "2023-10-11T17:20:08.298644Z",
     "iopub.execute_input": "2023-10-11T17:20:08.299030Z",
     "iopub.status.idle": "2023-10-11T17:20:16.749854Z",
     "shell.execute_reply.started": "2023-10-11T17:20:08.298999Z",
     "shell.execute_reply": "2023-10-11T17:20:16.748603Z"
    },
    "trusted": true
   },
   "execution_count": null,
   "outputs": []
  },
  {
   "cell_type": "code",
   "source": [
    "BASE_DIR = '/kaggle/input/eurosat-dataset/EuroSAT'\n",
    "BATCH_SIZE = 128\n",
    "DEVICE = torch.device(\"cuda\" if torch.cuda.is_available() else \"cpu\")\n",
    "NUM_EPOCHS = 5"
   ],
   "metadata": {
    "execution": {
     "iopub.status.busy": "2023-10-11T17:20:16.752991Z",
     "iopub.execute_input": "2023-10-11T17:20:16.753460Z",
     "iopub.status.idle": "2023-10-11T17:20:16.760036Z",
     "shell.execute_reply.started": "2023-10-11T17:20:16.753416Z",
     "shell.execute_reply": "2023-10-11T17:20:16.758935Z"
    },
    "trusted": true
   },
   "execution_count": null,
   "outputs": []
  },
  {
   "cell_type": "markdown",
   "source": [
    "## Loading data"
   ],
   "metadata": {}
  },
  {
   "cell_type": "code",
   "source": [
    "test_df = pd.read_csv(os.path.join(BASE_DIR, 'test.csv'))\n",
    "train_df = pd.read_csv(os.path.join(BASE_DIR, 'train.csv'))\n",
    "validation_df = pd.read_csv(os.path.join(BASE_DIR, 'validation.csv'))\n",
    "\n",
    "train_df"
   ],
   "metadata": {
    "execution": {
     "iopub.status.busy": "2023-10-11T17:20:16.761646Z",
     "iopub.execute_input": "2023-10-11T17:20:16.762263Z",
     "iopub.status.idle": "2023-10-11T17:20:16.817745Z",
     "shell.execute_reply.started": "2023-10-11T17:20:16.762231Z",
     "shell.execute_reply": "2023-10-11T17:20:16.816594Z"
    },
    "trusted": true
   },
   "execution_count": null,
   "outputs": []
  },
  {
   "cell_type": "code",
   "source": [
    "with open(os.path.join(BASE_DIR, 'label_map.json'), 'r') as f:\n",
    "    json_data = f.read()\n",
    "\n",
    "label_map = json.loads(json_data)\n",
    "label_map"
   ],
   "metadata": {
    "execution": {
     "iopub.status.busy": "2023-10-11T17:20:16.819309Z",
     "iopub.execute_input": "2023-10-11T17:20:16.819965Z",
     "iopub.status.idle": "2023-10-11T17:20:16.829307Z",
     "shell.execute_reply.started": "2023-10-11T17:20:16.819910Z",
     "shell.execute_reply": "2023-10-11T17:20:16.828417Z"
    },
    "trusted": true
   },
   "execution_count": null,
   "outputs": []
  },
  {
   "cell_type": "code",
   "source": [
    "train_df['Label'].value_counts()"
   ],
   "metadata": {
    "execution": {
     "iopub.status.busy": "2023-10-11T17:20:16.832396Z",
     "iopub.execute_input": "2023-10-11T17:20:16.833214Z",
     "iopub.status.idle": "2023-10-11T17:20:16.842014Z",
     "shell.execute_reply.started": "2023-10-11T17:20:16.833180Z",
     "shell.execute_reply": "2023-10-11T17:20:16.840602Z"
    },
    "trusted": true
   },
   "execution_count": null,
   "outputs": []
  },
  {
   "cell_type": "markdown",
   "source": [
    "## Dataset and Dataloader"
   ],
   "metadata": {}
  },
  {
   "cell_type": "code",
   "source": [
    "train_transforms = transforms.Compose([     \n",
    "    transforms.ColorJitter(brightness=[0.5, 1.5], contrast=[0.8, 1.2], saturation=[0.8, 1.2]),\n",
    "    transforms.Resize((224, 224), interpolation=Image.NEAREST),\n",
    "    transforms.RandomHorizontalFlip(),\n",
    "    transforms.ToTensor(),\n",
    "#     transforms.Normalize(mean=[0.485, 0.456, 0.406], std=[0.229, 0.224, 0.225]),\n",
    "])\n",
    "\n",
    "test_val_transforms = transforms.Compose([            \n",
    "    transforms.Resize((224, 224), interpolation=Image.NEAREST),\n",
    "    transforms.ToTensor(),\n",
    "#     transforms.Normalize(mean=[0.485, 0.456, 0.406], std=[0.229, 0.224, 0.225]),\n",
    "])"
   ],
   "metadata": {
    "execution": {
     "iopub.status.busy": "2023-10-11T17:20:16.843830Z",
     "iopub.execute_input": "2023-10-11T17:20:16.844188Z",
     "iopub.status.idle": "2023-10-11T17:20:16.852891Z",
     "shell.execute_reply.started": "2023-10-11T17:20:16.844156Z",
     "shell.execute_reply": "2023-10-11T17:20:16.851975Z"
    },
    "trusted": true
   },
   "execution_count": null,
   "outputs": []
  },
  {
   "cell_type": "code",
   "source": [
    "class Dataset(Dataset):\n",
    "    def __init__(self, df, transforms=None):\n",
    "        self.df = df\n",
    "        self.transforms = transforms\n",
    "    \n",
    "    def __len__(self):\n",
    "        return len(self.df)\n",
    "    \n",
    "    def __getitem__(self, idx):\n",
    "        \n",
    "        path = os.path.join(BASE_DIR, self.df['Filename'][idx])\n",
    "        \n",
    "        image = Image.open(path)\n",
    "        image = self.transforms(image)\n",
    "    \n",
    "        label = self.df['Label'][idx]\n",
    "        bin_label = 0 if label in [0, 1, 2, 5, 6, 8, 9] else 1\n",
    "        \n",
    "        return image, bin_label\n",
    "    \n",
    "train_set = Dataset(train_df, transforms=train_transforms)\n",
    "val_set = Dataset(validation_df, transforms=test_val_transforms)\n",
    "test_set = Dataset(test_df, transforms=test_val_transforms)"
   ],
   "metadata": {
    "execution": {
     "iopub.status.busy": "2023-10-11T17:20:16.854387Z",
     "iopub.execute_input": "2023-10-11T17:20:16.855006Z",
     "iopub.status.idle": "2023-10-11T17:20:16.864824Z",
     "shell.execute_reply.started": "2023-10-11T17:20:16.854975Z",
     "shell.execute_reply": "2023-10-11T17:20:16.863889Z"
    },
    "trusted": true
   },
   "execution_count": null,
   "outputs": []
  },
  {
   "cell_type": "code",
   "source": [
    "train_loader = DataLoader(\n",
    "    train_set,\n",
    "    batch_size=BATCH_SIZE,\n",
    "    shuffle=True,\n",
    ")\n",
    "\n",
    "val_loader = DataLoader(\n",
    "    val_set,\n",
    "    batch_size=BATCH_SIZE,\n",
    "    shuffle=True,\n",
    ")\n",
    "\n",
    "test_loader = DataLoader(\n",
    "    test_set,\n",
    "    batch_size=BATCH_SIZE,\n",
    "    shuffle=True\n",
    ")"
   ],
   "metadata": {
    "execution": {
     "iopub.status.busy": "2023-10-11T17:20:16.866027Z",
     "iopub.execute_input": "2023-10-11T17:20:16.867186Z",
     "iopub.status.idle": "2023-10-11T17:20:16.880817Z",
     "shell.execute_reply.started": "2023-10-11T17:20:16.867150Z",
     "shell.execute_reply": "2023-10-11T17:20:16.879736Z"
    },
    "trusted": true
   },
   "execution_count": null,
   "outputs": []
  },
  {
   "cell_type": "markdown",
   "source": [
    "### Sample images"
   ],
   "metadata": {}
  },
  {
   "cell_type": "code",
   "source": [
    "for image_batch, label_batch in val_loader:\n",
    "    image_batch, label_batch = image_batch[:4], label_batch[:4] \n",
    "    fig, axes = plt.subplots(1, 4, figsize=(64, 64))\n",
    "    axes = [axes]\n",
    "    for i, data in enumerate(zip(axes[0], image_batch, label_batch)):\n",
    "        ax, image, label = data\n",
    "        ax.imshow(image.permute(1, 2, 0))\n",
    "        ax.axis('off')\n",
    "        label = 'urbanized' if label.item() == 1 else 'not urbanized'\n",
    "        ax.set_title(label, fontsize=50)\n",
    "\n",
    "    plt.tight_layout()\n",
    "    plt.show()\n",
    "    break"
   ],
   "metadata": {
    "execution": {
     "iopub.status.busy": "2023-10-11T17:20:16.882761Z",
     "iopub.execute_input": "2023-10-11T17:20:16.883582Z",
     "iopub.status.idle": "2023-10-11T17:20:20.506527Z",
     "shell.execute_reply.started": "2023-10-11T17:20:16.883511Z",
     "shell.execute_reply": "2023-10-11T17:20:20.505694Z"
    },
    "trusted": true
   },
   "execution_count": null,
   "outputs": []
  },
  {
   "cell_type": "markdown",
   "source": [
    "## Model"
   ],
   "metadata": {}
  },
  {
   "cell_type": "code",
   "source": [
    "class Model(Module):\n",
    "    def __init__(self):\n",
    "        super(Model, self).__init__()\n",
    "        \n",
    "        self.base = torch.hub.load('pytorch/vision:v0.10.0', 'resnet34', pretrained=True)\n",
    "        \n",
    "        self.hidden1 = torch.nn.Linear(1000, 512)\n",
    "        self.bn1 = torch.nn.BatchNorm1d(512)\n",
    "        self.hidden2 = torch.nn.Linear(512, 256)\n",
    "        self.bn2 = torch.nn.BatchNorm1d(256)\n",
    "        self.hidden3 = torch.nn.Linear(256, 128)\n",
    "        self.bn3 = torch.nn.BatchNorm1d(128)\n",
    "        self.out = torch.nn.Linear(128, 1)\n",
    "        self.sig = torch.nn.Sigmoid()\n",
    "        \n",
    "        self.dropout = torch.nn.Dropout(0.5)\n",
    "        \n",
    "    def forward(self, x):\n",
    "        x = self.base(x)\n",
    "        x = self.hidden1(x)\n",
    "        x = self.dropout(x)\n",
    "        x = self.bn1(x)\n",
    "        x = self.hidden2(x)\n",
    "        x = self.dropout(x)\n",
    "        x = self.bn2(x)\n",
    "        x = self.hidden3(x)\n",
    "        x = self.dropout(x)\n",
    "        x = self.bn3(x)\n",
    "        x = self.out(x)\n",
    "        out = self.sig(x)\n",
    "        \n",
    "        return out\n",
    "\n",
    "model = Model()\n",
    "model = model.to(DEVICE)\n",
    "summary(model, (3, 224, 224))"
   ],
   "metadata": {
    "execution": {
     "iopub.status.busy": "2023-10-11T17:20:20.508055Z",
     "iopub.execute_input": "2023-10-11T17:20:20.508655Z",
     "iopub.status.idle": "2023-10-11T17:20:20.979075Z",
     "shell.execute_reply.started": "2023-10-11T17:20:20.508622Z",
     "shell.execute_reply": "2023-10-11T17:20:20.978101Z"
    },
    "trusted": true
   },
   "execution_count": null,
   "outputs": []
  },
  {
   "cell_type": "code",
   "source": [
    "criterion = torch.nn.BCELoss()\n",
    "\n",
    "optimizer = torch.optim.Adam(model.parameters())"
   ],
   "metadata": {
    "execution": {
     "iopub.status.busy": "2023-10-11T17:20:20.980353Z",
     "iopub.execute_input": "2023-10-11T17:20:20.981325Z",
     "iopub.status.idle": "2023-10-11T17:20:20.988513Z",
     "shell.execute_reply.started": "2023-10-11T17:20:20.981290Z",
     "shell.execute_reply": "2023-10-11T17:20:20.987506Z"
    },
    "trusted": true
   },
   "execution_count": null,
   "outputs": []
  },
  {
   "cell_type": "code",
   "source": [
    "def accuracy(pred, targ):\n",
    "    pos = 0\n",
    "    for pred, targ in zip(pred, targ):\n",
    "        if float(round(pred.item())) == targ.item():\n",
    "            pos += 1\n",
    "    return pos/BATCH_SIZE"
   ],
   "metadata": {
    "execution": {
     "iopub.status.busy": "2023-10-11T17:20:20.989993Z",
     "iopub.execute_input": "2023-10-11T17:20:20.990582Z",
     "iopub.status.idle": "2023-10-11T17:20:20.997726Z",
     "shell.execute_reply.started": "2023-10-11T17:20:20.990548Z",
     "shell.execute_reply": "2023-10-11T17:20:20.996809Z"
    },
    "trusted": true
   },
   "execution_count": null,
   "outputs": []
  },
  {
   "cell_type": "markdown",
   "source": [
    "## Training"
   ],
   "metadata": {}
  },
  {
   "cell_type": "code",
   "source": [
    "train_losses = []\n",
    "val_losses = []\n",
    "train_accs = []\n",
    "val_accs = []\n",
    "\n",
    "for epoch in range(NUM_EPOCHS):\n",
    "    print('\\n ----------------------------------')\n",
    "    print(f'EPOCH: {epoch + 1}/{NUM_EPOCHS}')\n",
    "        \n",
    "    train_loss = 0.0\n",
    "    train_acc = 0.0\n",
    "    validation_loss = 0.0\n",
    "    val_acc = 0.0\n",
    "    \n",
    "    model.train()\n",
    "    for images, labels in train_loader:\n",
    "        images, labels = images.to(DEVICE), labels.to(DEVICE)\n",
    "        \n",
    "        optimizer.zero_grad()\n",
    "        out = model(images)\n",
    "        labels = labels.unsqueeze(1)\n",
    "        labels = labels.float()\n",
    "        \n",
    "        loss = criterion(out, labels)\n",
    "        loss.backward()\n",
    "        \n",
    "        optimizer.step()\n",
    "        \n",
    "        train_loss += loss.item()\n",
    "        train_acc += accuracy(out, labels)\n",
    "        \n",
    "    train_loss = train_loss/len(train_loader)\n",
    "    train_losses.append(train_loss)\n",
    "    print(f'train loss: {round(train_loss, 3)}')\n",
    "    \n",
    "    train_acc = train_acc/len(train_loader)\n",
    "    train_accs.append(train_acc)\n",
    "    print(f'train accuracy: {round(train_acc, 3)}\\n')\n",
    "    \n",
    "    model.eval()\n",
    "    with torch.no_grad():\n",
    "        for images, labels in val_loader:\n",
    "            images, labels = images.to(DEVICE), labels.to(DEVICE)\n",
    "            \n",
    "            out = model(images)\n",
    "            \n",
    "            labels = labels.unsqueeze(1)\n",
    "            labels = labels.float()\n",
    "            \n",
    "            loss = criterion(out, labels)\n",
    "            \n",
    "            validation_loss += loss.item()\n",
    "            val_acc += accuracy(out, labels)\n",
    "            \n",
    "    validation_loss = validation_loss/len(val_loader)\n",
    "    val_losses.append(validation_loss)\n",
    "    print(f'validation loss: {round(validation_loss, 3)}')\n",
    "    \n",
    "    val_acc = val_acc/len(val_loader)\n",
    "    val_accs.append(val_acc)\n",
    "    print(f'validation accuracy: {round(val_acc, 3)}')\n",
    "    "
   ],
   "metadata": {
    "execution": {
     "iopub.status.busy": "2023-10-11T17:20:20.999132Z",
     "iopub.execute_input": "2023-10-11T17:20:21.000086Z"
    },
    "trusted": true
   },
   "execution_count": null,
   "outputs": []
  },
  {
   "cell_type": "markdown",
   "source": [
    "## Test"
   ],
   "metadata": {}
  },
  {
   "cell_type": "code",
   "source": [
    "test_loss = 0.0\n",
    "test_acc = 0.0\n",
    "\n",
    "for images, loader in test_loader:\n",
    "    images, labels = images.to(DEVICE), labels.to(DEVICE)\n",
    "    \n",
    "    out = model(images)\n",
    "    \n",
    "    labels.unsqueeze(1)\n",
    "    lables = labels.float()\n",
    "    \n",
    "    loss = criterion(out, labels)\n",
    "    \n",
    "    test_loss += loss.item()\n",
    "    test_acc += accuracy(out, labels)\n",
    "    \n",
    "test_loss = test_loss/len(test_loader)\n",
    "test_acc = test_acc/len(test_loader)\n",
    "    \n",
    "print(\"TEST\")\n",
    "print(f'Loss: {test_loss}')\n",
    "print(f'Accuracy: {test_acc}')"
   ],
   "metadata": {
    "trusted": true
   },
   "execution_count": null,
   "outputs": []
  },
  {
   "cell_type": "code",
   "source": [
    "plt.figure(figsize=(12, 5))\n",
    "plt.subplot(1, 2, 1)\n",
    "plt.plot(train_losses, label='Training Loss')\n",
    "plt.plot(val_losses, label='Validation Loss')\n",
    "plt.xlabel('Epoch')\n",
    "plt.ylabel('Loss')\n",
    "plt.legend()"
   ],
   "metadata": {
    "trusted": true
   },
   "execution_count": null,
   "outputs": []
  },
  {
   "cell_type": "code",
   "source": [
    "plt.figure(figsize=(12, 5))\n",
    "plt.subplot(1, 2, 1)\n",
    "plt.plot(train_accs, label='Train accuracy')\n",
    "plt.plot(val_accs, label='Validation accuracy')\n",
    "plt.xlabel('Epoch')\n",
    "plt.ylabel('Loss')\n",
    "plt.legend()vv"
   ],
   "metadata": {
    "trusted": true
   },
   "execution_count": null,
   "outputs": []
  },
  {
   "cell_type": "markdown",
   "source": [
    "### Sample predictions"
   ],
   "metadata": {}
  },
  {
   "cell_type": "code",
   "source": [
    "for image_batch, label_batch in train_loader:\n",
    "    image_batch, label_batch = image_batch[:4], label_batch[:4] \n",
    "    fig, axes = plt.subplots(1, 4, figsize=(64, 64))\n",
    "    axes = [axes]\n",
    "    for i, data in enumerate(zip(axes[0], image_batch, label_batch)):\n",
    "        ax, image, label = data\n",
    "        \n",
    "        out = model(image )\n",
    "        ax.imshow(image.permute(1, 2, 0))\n",
    "        ax.axis('off')\n",
    "        label = 'urbanized' if label.item() == 1 else 'not urbanized'\n",
    "        pred = 'urbanized' if round(model(image)) == 1 else 'not urbanized'\n",
    "        ax.set_title(f'Predicted: {pred} | True: {label}', fontsize=50)\n",
    "\n",
    "    plt.tight_layout()\n",
    "    plt.show()\n",
    "    break"
   ],
   "metadata": {
    "trusted": true
   },
   "execution_count": null,
   "outputs": []
  }
 ]
}

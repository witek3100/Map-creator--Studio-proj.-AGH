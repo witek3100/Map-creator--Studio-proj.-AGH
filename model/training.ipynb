{
 "cells": [
  {
   "cell_type": "code",
   "execution_count": 1,
   "id": "e96cfe58",
   "metadata": {
    "execution": {
     "iopub.execute_input": "2023-10-16T16:05:23.795369Z",
     "iopub.status.busy": "2023-10-16T16:05:23.794819Z",
     "iopub.status.idle": "2023-10-16T16:05:37.797759Z",
     "shell.execute_reply": "2023-10-16T16:05:37.796694Z"
    },
    "papermill": {
     "duration": 14.011272,
     "end_time": "2023-10-16T16:05:37.800114",
     "exception": false,
     "start_time": "2023-10-16T16:05:23.788842",
     "status": "completed"
    },
    "tags": []
   },
   "outputs": [
    {
     "name": "stdout",
     "output_type": "stream",
     "text": [
      "Collecting torchsummary\r\n",
      "  Downloading torchsummary-1.5.1-py3-none-any.whl (2.8 kB)\r\n",
      "Installing collected packages: torchsummary\r\n",
      "Successfully installed torchsummary-1.5.1\r\n"
     ]
    }
   ],
   "source": [
    "import os\n",
    "import pandas as pd\n",
    "import numpy as np\n",
    "from PIL import Image\n",
    "from matplotlib import image as img\n",
    "from matplotlib import pyplot as plt\n",
    "import json\n",
    "\n",
    "import torch\n",
    "from torch.nn import Module\n",
    "from torch.utils.data import Dataset, DataLoader\n",
    "!pip install torchsummary\n",
    "from torchsummary import summary\n",
    "from torchvision import transforms, models"
   ]
  },
  {
   "cell_type": "code",
   "execution_count": 2,
   "id": "7ee620fd",
   "metadata": {
    "execution": {
     "iopub.execute_input": "2023-10-16T16:05:37.811380Z",
     "iopub.status.busy": "2023-10-16T16:05:37.810824Z",
     "iopub.status.idle": "2023-10-16T16:05:37.901390Z",
     "shell.execute_reply": "2023-10-16T16:05:37.900683Z"
    },
    "papermill": {
     "duration": 0.098188,
     "end_time": "2023-10-16T16:05:37.903258",
     "exception": false,
     "start_time": "2023-10-16T16:05:37.805070",
     "status": "completed"
    },
    "tags": []
   },
   "outputs": [],
   "source": [
    "BASE_DIR = '/kaggle/input/eurosat-dataset/EuroSAT'\n",
    "BATCH_SIZE = 128\n",
    "DEVICE = torch.device(\"cuda\" if torch.cuda.is_available() else \"cpu\")\n",
    "NUM_EPOCHS = 10"
   ]
  },
  {
   "cell_type": "markdown",
   "id": "bfd9056c",
   "metadata": {
    "papermill": {
     "duration": 0.004407,
     "end_time": "2023-10-16T16:05:37.912435",
     "exception": false,
     "start_time": "2023-10-16T16:05:37.908028",
     "status": "completed"
    },
    "tags": []
   },
   "source": [
    "## Loading data"
   ]
  },
  {
   "cell_type": "code",
   "execution_count": 3,
   "id": "fc6b0073",
   "metadata": {
    "execution": {
     "iopub.execute_input": "2023-10-16T16:05:37.922327Z",
     "iopub.status.busy": "2023-10-16T16:05:37.922063Z",
     "iopub.status.idle": "2023-10-16T16:05:38.051203Z",
     "shell.execute_reply": "2023-10-16T16:05:38.050219Z"
    },
    "papermill": {
     "duration": 0.136188,
     "end_time": "2023-10-16T16:05:38.053033",
     "exception": false,
     "start_time": "2023-10-16T16:05:37.916845",
     "status": "completed"
    },
    "tags": []
   },
   "outputs": [
    {
     "data": {
      "text/html": [
       "<div>\n",
       "<style scoped>\n",
       "    .dataframe tbody tr th:only-of-type {\n",
       "        vertical-align: middle;\n",
       "    }\n",
       "\n",
       "    .dataframe tbody tr th {\n",
       "        vertical-align: top;\n",
       "    }\n",
       "\n",
       "    .dataframe thead th {\n",
       "        text-align: right;\n",
       "    }\n",
       "</style>\n",
       "<table border=\"1\" class=\"dataframe\">\n",
       "  <thead>\n",
       "    <tr style=\"text-align: right;\">\n",
       "      <th></th>\n",
       "      <th>Unnamed: 0</th>\n",
       "      <th>Filename</th>\n",
       "      <th>Label</th>\n",
       "      <th>ClassName</th>\n",
       "    </tr>\n",
       "  </thead>\n",
       "  <tbody>\n",
       "    <tr>\n",
       "      <th>0</th>\n",
       "      <td>16257</td>\n",
       "      <td>AnnualCrop/AnnualCrop_142.jpg</td>\n",
       "      <td>0</td>\n",
       "      <td>AnnualCrop</td>\n",
       "    </tr>\n",
       "    <tr>\n",
       "      <th>1</th>\n",
       "      <td>3297</td>\n",
       "      <td>HerbaceousVegetation/HerbaceousVegetation_2835...</td>\n",
       "      <td>2</td>\n",
       "      <td>HerbaceousVegetation</td>\n",
       "    </tr>\n",
       "    <tr>\n",
       "      <th>2</th>\n",
       "      <td>17881</td>\n",
       "      <td>PermanentCrop/PermanentCrop_1073.jpg</td>\n",
       "      <td>6</td>\n",
       "      <td>PermanentCrop</td>\n",
       "    </tr>\n",
       "    <tr>\n",
       "      <th>3</th>\n",
       "      <td>2223</td>\n",
       "      <td>Industrial/Industrial_453.jpg</td>\n",
       "      <td>4</td>\n",
       "      <td>Industrial</td>\n",
       "    </tr>\n",
       "    <tr>\n",
       "      <th>4</th>\n",
       "      <td>4887</td>\n",
       "      <td>HerbaceousVegetation/HerbaceousVegetation_1810...</td>\n",
       "      <td>2</td>\n",
       "      <td>HerbaceousVegetation</td>\n",
       "    </tr>\n",
       "    <tr>\n",
       "      <th>...</th>\n",
       "      <td>...</td>\n",
       "      <td>...</td>\n",
       "      <td>...</td>\n",
       "      <td>...</td>\n",
       "    </tr>\n",
       "    <tr>\n",
       "      <th>18895</th>\n",
       "      <td>4498</td>\n",
       "      <td>HerbaceousVegetation/HerbaceousVegetation_1952...</td>\n",
       "      <td>2</td>\n",
       "      <td>HerbaceousVegetation</td>\n",
       "    </tr>\n",
       "    <tr>\n",
       "      <th>18896</th>\n",
       "      <td>1149</td>\n",
       "      <td>Pasture/Pasture_1252.jpg</td>\n",
       "      <td>5</td>\n",
       "      <td>Pasture</td>\n",
       "    </tr>\n",
       "    <tr>\n",
       "      <th>18897</th>\n",
       "      <td>15489</td>\n",
       "      <td>AnnualCrop/AnnualCrop_2332.jpg</td>\n",
       "      <td>0</td>\n",
       "      <td>AnnualCrop</td>\n",
       "    </tr>\n",
       "    <tr>\n",
       "      <th>18898</th>\n",
       "      <td>6287</td>\n",
       "      <td>Residential/Residential_332.jpg</td>\n",
       "      <td>7</td>\n",
       "      <td>Residential</td>\n",
       "    </tr>\n",
       "    <tr>\n",
       "      <th>18899</th>\n",
       "      <td>18613</td>\n",
       "      <td>PermanentCrop/PermanentCrop_856.jpg</td>\n",
       "      <td>6</td>\n",
       "      <td>PermanentCrop</td>\n",
       "    </tr>\n",
       "  </tbody>\n",
       "</table>\n",
       "<p>18900 rows × 4 columns</p>\n",
       "</div>"
      ],
      "text/plain": [
       "       Unnamed: 0                                           Filename  Label  \\\n",
       "0           16257                      AnnualCrop/AnnualCrop_142.jpg      0   \n",
       "1            3297  HerbaceousVegetation/HerbaceousVegetation_2835...      2   \n",
       "2           17881               PermanentCrop/PermanentCrop_1073.jpg      6   \n",
       "3            2223                      Industrial/Industrial_453.jpg      4   \n",
       "4            4887  HerbaceousVegetation/HerbaceousVegetation_1810...      2   \n",
       "...           ...                                                ...    ...   \n",
       "18895        4498  HerbaceousVegetation/HerbaceousVegetation_1952...      2   \n",
       "18896        1149                           Pasture/Pasture_1252.jpg      5   \n",
       "18897       15489                     AnnualCrop/AnnualCrop_2332.jpg      0   \n",
       "18898        6287                    Residential/Residential_332.jpg      7   \n",
       "18899       18613                PermanentCrop/PermanentCrop_856.jpg      6   \n",
       "\n",
       "                  ClassName  \n",
       "0                AnnualCrop  \n",
       "1      HerbaceousVegetation  \n",
       "2             PermanentCrop  \n",
       "3                Industrial  \n",
       "4      HerbaceousVegetation  \n",
       "...                     ...  \n",
       "18895  HerbaceousVegetation  \n",
       "18896               Pasture  \n",
       "18897            AnnualCrop  \n",
       "18898           Residential  \n",
       "18899         PermanentCrop  \n",
       "\n",
       "[18900 rows x 4 columns]"
      ]
     },
     "execution_count": 3,
     "metadata": {},
     "output_type": "execute_result"
    }
   ],
   "source": [
    "test_df = pd.read_csv(os.path.join(BASE_DIR, 'test.csv'))\n",
    "train_df = pd.read_csv(os.path.join(BASE_DIR, 'train.csv'))\n",
    "validation_df = pd.read_csv(os.path.join(BASE_DIR, 'validation.csv'))\n",
    "\n",
    "train_df"
   ]
  },
  {
   "cell_type": "code",
   "execution_count": 4,
   "id": "ae61c046",
   "metadata": {
    "execution": {
     "iopub.execute_input": "2023-10-16T16:05:38.074870Z",
     "iopub.status.busy": "2023-10-16T16:05:38.074540Z",
     "iopub.status.idle": "2023-10-16T16:05:38.096863Z",
     "shell.execute_reply": "2023-10-16T16:05:38.095548Z"
    },
    "papermill": {
     "duration": 0.035099,
     "end_time": "2023-10-16T16:05:38.098729",
     "exception": false,
     "start_time": "2023-10-16T16:05:38.063630",
     "status": "completed"
    },
    "tags": []
   },
   "outputs": [
    {
     "name": "stdout",
     "output_type": "stream",
     "text": [
      "<class 'pandas.core.frame.DataFrame'>\n",
      "RangeIndex: 18900 entries, 0 to 18899\n",
      "Data columns (total 4 columns):\n",
      " #   Column      Non-Null Count  Dtype \n",
      "---  ------      --------------  ----- \n",
      " 0   Unnamed: 0  18900 non-null  int64 \n",
      " 1   Filename    18900 non-null  object\n",
      " 2   Label       18900 non-null  int64 \n",
      " 3   ClassName   18900 non-null  object\n",
      "dtypes: int64(2), object(2)\n",
      "memory usage: 590.8+ KB\n"
     ]
    }
   ],
   "source": [
    "train_df.info()"
   ]
  },
  {
   "cell_type": "code",
   "execution_count": 5,
   "id": "a6d75403",
   "metadata": {
    "execution": {
     "iopub.execute_input": "2023-10-16T16:05:38.109978Z",
     "iopub.status.busy": "2023-10-16T16:05:38.109560Z",
     "iopub.status.idle": "2023-10-16T16:05:38.123830Z",
     "shell.execute_reply": "2023-10-16T16:05:38.122824Z"
    },
    "papermill": {
     "duration": 0.022195,
     "end_time": "2023-10-16T16:05:38.125678",
     "exception": false,
     "start_time": "2023-10-16T16:05:38.103483",
     "status": "completed"
    },
    "tags": []
   },
   "outputs": [
    {
     "data": {
      "text/plain": [
       "{'AnnualCrop': 0,\n",
       " 'Forest': 1,\n",
       " 'HerbaceousVegetation': 2,\n",
       " 'Highway': 3,\n",
       " 'Industrial': 4,\n",
       " 'Pasture': 5,\n",
       " 'PermanentCrop': 6,\n",
       " 'Residential': 7,\n",
       " 'River': 8,\n",
       " 'SeaLake': 9}"
      ]
     },
     "execution_count": 5,
     "metadata": {},
     "output_type": "execute_result"
    }
   ],
   "source": [
    "with open(os.path.join(BASE_DIR, 'label_map.json'), 'r') as f:\n",
    "    json_data = f.read()\n",
    "\n",
    "label_map = json.loads(json_data)\n",
    "label_map"
   ]
  },
  {
   "cell_type": "code",
   "execution_count": 6,
   "id": "d7359a73",
   "metadata": {
    "execution": {
     "iopub.execute_input": "2023-10-16T16:05:38.137054Z",
     "iopub.status.busy": "2023-10-16T16:05:38.136646Z",
     "iopub.status.idle": "2023-10-16T16:05:38.143523Z",
     "shell.execute_reply": "2023-10-16T16:05:38.142593Z"
    },
    "papermill": {
     "duration": 0.014589,
     "end_time": "2023-10-16T16:05:38.145360",
     "exception": false,
     "start_time": "2023-10-16T16:05:38.130771",
     "status": "completed"
    },
    "tags": []
   },
   "outputs": [
    {
     "data": {
      "text/plain": [
       "Label\n",
       "0    2100\n",
       "2    2100\n",
       "7    2100\n",
       "9    2100\n",
       "1    2100\n",
       "6    1750\n",
       "4    1750\n",
       "3    1750\n",
       "8    1750\n",
       "5    1400\n",
       "Name: count, dtype: int64"
      ]
     },
     "execution_count": 6,
     "metadata": {},
     "output_type": "execute_result"
    }
   ],
   "source": [
    "train_df['Label'].value_counts()"
   ]
  },
  {
   "cell_type": "markdown",
   "id": "77429c1d",
   "metadata": {
    "papermill": {
     "duration": 0.007658,
     "end_time": "2023-10-16T16:05:38.158256",
     "exception": false,
     "start_time": "2023-10-16T16:05:38.150598",
     "status": "completed"
    },
    "tags": []
   },
   "source": [
    "### Sample images"
   ]
  },
  {
   "cell_type": "markdown",
   "id": "84aceb0f",
   "metadata": {
    "papermill": {
     "duration": 0.005055,
     "end_time": "2023-10-16T16:05:38.168692",
     "exception": false,
     "start_time": "2023-10-16T16:05:38.163637",
     "status": "completed"
    },
    "tags": []
   },
   "source": [
    "## Dataset and Dataloader"
   ]
  },
  {
   "cell_type": "code",
   "execution_count": 7,
   "id": "2ed197f8",
   "metadata": {
    "execution": {
     "iopub.execute_input": "2023-10-16T16:05:38.180485Z",
     "iopub.status.busy": "2023-10-16T16:05:38.180207Z",
     "iopub.status.idle": "2023-10-16T16:05:38.186214Z",
     "shell.execute_reply": "2023-10-16T16:05:38.185140Z"
    },
    "papermill": {
     "duration": 0.014146,
     "end_time": "2023-10-16T16:05:38.188126",
     "exception": false,
     "start_time": "2023-10-16T16:05:38.173980",
     "status": "completed"
    },
    "tags": []
   },
   "outputs": [],
   "source": [
    "train_transforms = transforms.Compose([     \n",
    "    transforms.ColorJitter(brightness=[0.5, 1.5], contrast=[0.8, 1.2], saturation=[0.8, 1.2]),\n",
    "    transforms.Resize((224, 224), interpolation=Image.NEAREST),\n",
    "    transforms.RandomHorizontalFlip(),\n",
    "    transforms.ToTensor(),\n",
    "#     transforms.Normalize(mean=[0.485, 0.456, 0.406], std=[0.229, 0.224, 0.225]),\n",
    "])\n",
    "\n",
    "test_val_transforms = transforms.Compose([            \n",
    "    transforms.Resize((224, 224), interpolation=Image.NEAREST),\n",
    "    transforms.ToTensor(),\n",
    "#     transforms.Normalize(mean=[0.485, 0.456, 0.406], std=[0.229, 0.224, 0.225]),\n",
    "])"
   ]
  },
  {
   "cell_type": "code",
   "execution_count": 8,
   "id": "71135969",
   "metadata": {
    "execution": {
     "iopub.execute_input": "2023-10-16T16:05:38.200088Z",
     "iopub.status.busy": "2023-10-16T16:05:38.199545Z",
     "iopub.status.idle": "2023-10-16T16:05:38.206275Z",
     "shell.execute_reply": "2023-10-16T16:05:38.205223Z"
    },
    "papermill": {
     "duration": 0.014827,
     "end_time": "2023-10-16T16:05:38.208066",
     "exception": false,
     "start_time": "2023-10-16T16:05:38.193239",
     "status": "completed"
    },
    "tags": []
   },
   "outputs": [],
   "source": [
    "class Dataset(Dataset):\n",
    "    def __init__(self, df, transforms=None, with_labels=True):\n",
    "        self.df = df\n",
    "        self.transforms = transforms\n",
    "    \n",
    "    def __len__(self):\n",
    "        return len(self.df)\n",
    "    \n",
    "    def __getitem__(self, idx):\n",
    "        \n",
    "        path = os.path.join(BASE_DIR, self.df['Filename'][idx])\n",
    "        \n",
    "        image = Image.open(path)\n",
    "        image = self.transforms(image)\n",
    "    \n",
    "        label = self.df['Label'][idx]\n",
    "        bin_label = 0 if label in [0, 1, 2, 5, 6, 8, 9] else 1\n",
    "        \n",
    "        return image, bin_label\n",
    "    \n",
    "train_set = Dataset(train_df, transforms=train_transforms)\n",
    "val_set = Dataset(validation_df, transforms=test_val_transforms)\n",
    "test_set = Dataset(test_df, transforms=test_val_transforms)"
   ]
  },
  {
   "cell_type": "code",
   "execution_count": 9,
   "id": "dc32f2f7",
   "metadata": {
    "execution": {
     "iopub.execute_input": "2023-10-16T16:05:38.219781Z",
     "iopub.status.busy": "2023-10-16T16:05:38.218870Z",
     "iopub.status.idle": "2023-10-16T16:05:38.224483Z",
     "shell.execute_reply": "2023-10-16T16:05:38.223656Z"
    },
    "papermill": {
     "duration": 0.013144,
     "end_time": "2023-10-16T16:05:38.226247",
     "exception": false,
     "start_time": "2023-10-16T16:05:38.213103",
     "status": "completed"
    },
    "tags": []
   },
   "outputs": [],
   "source": [
    "train_loader = DataLoader(\n",
    "    train_set,\n",
    "    batch_size=BATCH_SIZE,\n",
    "    shuffle=True,\n",
    ")\n",
    "\n",
    "val_loader = DataLoader(\n",
    "    val_set,\n",
    "    batch_size=BATCH_SIZE,\n",
    "    shuffle=True,\n",
    ")\n",
    "\n",
    "test_loader = DataLoader(\n",
    "    test_set,\n",
    "    batch_size=BATCH_SIZE,\n",
    "    shuffle=True\n",
    ")"
   ]
  },
  {
   "cell_type": "markdown",
   "id": "cdc1ec9f",
   "metadata": {
    "papermill": {
     "duration": 0.004573,
     "end_time": "2023-10-16T16:05:38.237375",
     "exception": false,
     "start_time": "2023-10-16T16:05:38.232802",
     "status": "completed"
    },
    "tags": []
   },
   "source": [
    "### Sample images"
   ]
  },
  {
   "cell_type": "code",
   "execution_count": 10,
   "id": "bd3c98fd",
   "metadata": {
    "execution": {
     "iopub.execute_input": "2023-10-16T16:05:38.248960Z",
     "iopub.status.busy": "2023-10-16T16:05:38.248202Z",
     "iopub.status.idle": "2023-10-16T16:05:42.459663Z",
     "shell.execute_reply": "2023-10-16T16:05:42.458445Z"
    },
    "papermill": {
     "duration": 4.221241,
     "end_time": "2023-10-16T16:05:42.463445",
     "exception": false,
     "start_time": "2023-10-16T16:05:38.242204",
     "status": "completed"
    },
    "tags": []
   },
   "outputs": [
    {
     "data": {
      "image/png": "[encoded data removed]",
      "text/plain": [
       "<Figure size 6400x6400 with 4 Axes>"
      ]
     },
     "metadata": {},
     "output_type": "display_data"
    }
   ],
   "source": [
    "for image_batch, label_batch in val_loader:\n",
    "    image_batch, label_batch = image_batch[:4], label_batch[:4] \n",
    "    fig, axes = plt.subplots(1, 4, figsize=(64, 64))\n",
    "    axes = [axes]\n",
    "    for i, data in enumerate(zip(axes[0], image_batch, label_batch)):\n",
    "        ax, image, label = data\n",
    "        ax.imshow(image.permute(1, 2, 0))\n",
    "        ax.axis('off')\n",
    "        label = 'urbanized' if label.item() == 1 else 'not urbanized'\n",
    "        ax.set_title(label, fontsize=50)\n",
    "\n",
    "    plt.tight_layout()\n",
    "    plt.show()\n",
    "    break"
   ]
  },
  {
   "cell_type": "markdown",
   "id": "f55ad5bb",
   "metadata": {
    "papermill": {
     "duration": 0.007415,
     "end_time": "2023-10-16T16:05:42.478231",
     "exception": false,
     "start_time": "2023-10-16T16:05:42.470816",
     "status": "completed"
    },
    "tags": []
   },
   "source": [
    "## Model"
   ]
  },
  {
   "cell_type": "code",
   "execution_count": 11,
   "id": "d57b410e",
   "metadata": {
    "execution": {
     "iopub.execute_input": "2023-10-16T16:05:42.494112Z",
     "iopub.status.busy": "2023-10-16T16:05:42.493762Z",
     "iopub.status.idle": "2023-10-16T16:05:52.920812Z",
     "shell.execute_reply": "2023-10-16T16:05:52.919908Z"
    },
    "papermill": {
     "duration": 10.438299,
     "end_time": "2023-10-16T16:05:52.923635",
     "exception": false,
     "start_time": "2023-10-16T16:05:42.485336",
     "status": "completed"
    },
    "tags": []
   },
   "outputs": [
    {
     "name": "stderr",
     "output_type": "stream",
     "text": [
      "Downloading: \"https://github.com/pytorch/vision/zipball/v0.10.0\" to /root/.cache/torch/hub/v0.10.0.zip\n",
      "/opt/conda/lib/python3.10/site-packages/torchvision/models/_utils.py:208: UserWarning: The parameter 'pretrained' is deprecated since 0.13 and may be removed in the future, please use 'weights' instead.\n",
      "  warnings.warn(\n",
      "/opt/conda/lib/python3.10/site-packages/torchvision/models/_utils.py:223: UserWarning: Arguments other than a weight enum or `None` for 'weights' are deprecated since 0.13 and may be removed in the future. The current behavior is equivalent to passing `weights=ResNet34_Weights.IMAGENET1K_V1`. You can also use `weights=ResNet34_Weights.DEFAULT` to get the most up-to-date weights.\n",
      "  warnings.warn(msg)\n",
      "Downloading: \"https://download.pytorch.org/models/resnet34-b627a593.pth\" to /root/.cache/torch/hub/checkpoints/resnet34-b627a593.pth\n",
      "100%|██████████| 83.3M/83.3M [00:00<00:00, 122MB/s]\n"
     ]
    },
    {
     "name": "stdout",
     "output_type": "stream",
     "text": [
      "----------------------------------------------------------------\n",
      "        Layer (type)               Output Shape         Param #\n",
      "================================================================\n",
      "            Conv2d-1         [-1, 64, 112, 112]           9,408\n",
      "       BatchNorm2d-2         [-1, 64, 112, 112]             128\n",
      "              ReLU-3         [-1, 64, 112, 112]               0\n",
      "         MaxPool2d-4           [-1, 64, 56, 56]               0\n",
      "            Conv2d-5           [-1, 64, 56, 56]          36,864\n",
      "       BatchNorm2d-6           [-1, 64, 56, 56]             128\n",
      "              ReLU-7           [-1, 64, 56, 56]               0\n",
      "            Conv2d-8           [-1, 64, 56, 56]          36,864\n",
      "       BatchNorm2d-9           [-1, 64, 56, 56]             128\n",
      "             ReLU-10           [-1, 64, 56, 56]               0\n",
      "       BasicBlock-11           [-1, 64, 56, 56]               0\n",
      "           Conv2d-12           [-1, 64, 56, 56]          36,864\n",
      "      BatchNorm2d-13           [-1, 64, 56, 56]             128\n",
      "             ReLU-14           [-1, 64, 56, 56]               0\n",
      "           Conv2d-15           [-1, 64, 56, 56]          36,864\n",
      "      BatchNorm2d-16           [-1, 64, 56, 56]             128\n",
      "             ReLU-17           [-1, 64, 56, 56]               0\n",
      "       BasicBlock-18           [-1, 64, 56, 56]               0\n",
      "           Conv2d-19           [-1, 64, 56, 56]          36,864\n",
      "      BatchNorm2d-20           [-1, 64, 56, 56]             128\n",
      "             ReLU-21           [-1, 64, 56, 56]               0\n",
      "           Conv2d-22           [-1, 64, 56, 56]          36,864\n",
      "      BatchNorm2d-23           [-1, 64, 56, 56]             128\n",
      "             ReLU-24           [-1, 64, 56, 56]               0\n",
      "       BasicBlock-25           [-1, 64, 56, 56]               0\n",
      "           Conv2d-26          [-1, 128, 28, 28]          73,728\n",
      "      BatchNorm2d-27          [-1, 128, 28, 28]             256\n",
      "             ReLU-28          [-1, 128, 28, 28]               0\n",
      "           Conv2d-29          [-1, 128, 28, 28]         147,456\n",
      "      BatchNorm2d-30          [-1, 128, 28, 28]             256\n",
      "           Conv2d-31          [-1, 128, 28, 28]           8,192\n",
      "      BatchNorm2d-32          [-1, 128, 28, 28]             256\n",
      "             ReLU-33          [-1, 128, 28, 28]               0\n",
      "       BasicBlock-34          [-1, 128, 28, 28]               0\n",
      "           Conv2d-35          [-1, 128, 28, 28]         147,456\n",
      "      BatchNorm2d-36          [-1, 128, 28, 28]             256\n",
      "             ReLU-37          [-1, 128, 28, 28]               0\n",
      "           Conv2d-38          [-1, 128, 28, 28]         147,456\n",
      "      BatchNorm2d-39          [-1, 128, 28, 28]             256\n",
      "             ReLU-40          [-1, 128, 28, 28]               0\n",
      "       BasicBlock-41          [-1, 128, 28, 28]               0\n",
      "           Conv2d-42          [-1, 128, 28, 28]         147,456\n",
      "      BatchNorm2d-43          [-1, 128, 28, 28]             256\n",
      "             ReLU-44          [-1, 128, 28, 28]               0\n",
      "           Conv2d-45          [-1, 128, 28, 28]         147,456\n",
      "      BatchNorm2d-46          [-1, 128, 28, 28]             256\n",
      "             ReLU-47          [-1, 128, 28, 28]               0\n",
      "       BasicBlock-48          [-1, 128, 28, 28]               0\n",
      "           Conv2d-49          [-1, 128, 28, 28]         147,456\n",
      "      BatchNorm2d-50          [-1, 128, 28, 28]             256\n",
      "             ReLU-51          [-1, 128, 28, 28]               0\n",
      "           Conv2d-52          [-1, 128, 28, 28]         147,456\n",
      "      BatchNorm2d-53          [-1, 128, 28, 28]             256\n",
      "             ReLU-54          [-1, 128, 28, 28]               0\n",
      "       BasicBlock-55          [-1, 128, 28, 28]               0\n",
      "           Conv2d-56          [-1, 256, 14, 14]         294,912\n",
      "      BatchNorm2d-57          [-1, 256, 14, 14]             512\n",
      "             ReLU-58          [-1, 256, 14, 14]               0\n",
      "           Conv2d-59          [-1, 256, 14, 14]         589,824\n",
      "      BatchNorm2d-60          [-1, 256, 14, 14]             512\n",
      "           Conv2d-61          [-1, 256, 14, 14]          32,768\n",
      "      BatchNorm2d-62          [-1, 256, 14, 14]             512\n",
      "             ReLU-63          [-1, 256, 14, 14]               0\n",
      "       BasicBlock-64          [-1, 256, 14, 14]               0\n",
      "           Conv2d-65          [-1, 256, 14, 14]         589,824\n",
      "      BatchNorm2d-66          [-1, 256, 14, 14]             512\n",
      "             ReLU-67          [-1, 256, 14, 14]               0\n",
      "           Conv2d-68          [-1, 256, 14, 14]         589,824\n",
      "      BatchNorm2d-69          [-1, 256, 14, 14]             512\n",
      "             ReLU-70          [-1, 256, 14, 14]               0\n",
      "       BasicBlock-71          [-1, 256, 14, 14]               0\n",
      "           Conv2d-72          [-1, 256, 14, 14]         589,824\n",
      "      BatchNorm2d-73          [-1, 256, 14, 14]             512\n",
      "             ReLU-74          [-1, 256, 14, 14]               0\n",
      "           Conv2d-75          [-1, 256, 14, 14]         589,824\n",
      "      BatchNorm2d-76          [-1, 256, 14, 14]             512\n",
      "             ReLU-77          [-1, 256, 14, 14]               0\n",
      "       BasicBlock-78          [-1, 256, 14, 14]               0\n",
      "           Conv2d-79          [-1, 256, 14, 14]         589,824\n",
      "      BatchNorm2d-80          [-1, 256, 14, 14]             512\n",
      "             ReLU-81          [-1, 256, 14, 14]               0\n",
      "           Conv2d-82          [-1, 256, 14, 14]         589,824\n",
      "      BatchNorm2d-83          [-1, 256, 14, 14]             512\n",
      "             ReLU-84          [-1, 256, 14, 14]               0\n",
      "       BasicBlock-85          [-1, 256, 14, 14]               0\n",
      "           Conv2d-86          [-1, 256, 14, 14]         589,824\n",
      "      BatchNorm2d-87          [-1, 256, 14, 14]             512\n",
      "             ReLU-88          [-1, 256, 14, 14]               0\n",
      "           Conv2d-89          [-1, 256, 14, 14]         589,824\n",
      "      BatchNorm2d-90          [-1, 256, 14, 14]             512\n",
      "             ReLU-91          [-1, 256, 14, 14]               0\n",
      "       BasicBlock-92          [-1, 256, 14, 14]               0\n",
      "           Conv2d-93          [-1, 256, 14, 14]         589,824\n",
      "      BatchNorm2d-94          [-1, 256, 14, 14]             512\n",
      "             ReLU-95          [-1, 256, 14, 14]               0\n",
      "           Conv2d-96          [-1, 256, 14, 14]         589,824\n",
      "      BatchNorm2d-97          [-1, 256, 14, 14]             512\n",
      "             ReLU-98          [-1, 256, 14, 14]               0\n",
      "       BasicBlock-99          [-1, 256, 14, 14]               0\n",
      "          Conv2d-100            [-1, 512, 7, 7]       1,179,648\n",
      "     BatchNorm2d-101            [-1, 512, 7, 7]           1,024\n",
      "            ReLU-102            [-1, 512, 7, 7]               0\n",
      "          Conv2d-103            [-1, 512, 7, 7]       2,359,296\n",
      "     BatchNorm2d-104            [-1, 512, 7, 7]           1,024\n",
      "          Conv2d-105            [-1, 512, 7, 7]         131,072\n",
      "     BatchNorm2d-106            [-1, 512, 7, 7]           1,024\n",
      "            ReLU-107            [-1, 512, 7, 7]               0\n",
      "      BasicBlock-108            [-1, 512, 7, 7]               0\n",
      "          Conv2d-109            [-1, 512, 7, 7]       2,359,296\n",
      "     BatchNorm2d-110            [-1, 512, 7, 7]           1,024\n",
      "            ReLU-111            [-1, 512, 7, 7]               0\n",
      "          Conv2d-112            [-1, 512, 7, 7]       2,359,296\n",
      "     BatchNorm2d-113            [-1, 512, 7, 7]           1,024\n",
      "            ReLU-114            [-1, 512, 7, 7]               0\n",
      "      BasicBlock-115            [-1, 512, 7, 7]               0\n",
      "          Conv2d-116            [-1, 512, 7, 7]       2,359,296\n",
      "     BatchNorm2d-117            [-1, 512, 7, 7]           1,024\n",
      "            ReLU-118            [-1, 512, 7, 7]               0\n",
      "          Conv2d-119            [-1, 512, 7, 7]       2,359,296\n",
      "     BatchNorm2d-120            [-1, 512, 7, 7]           1,024\n",
      "            ReLU-121            [-1, 512, 7, 7]               0\n",
      "      BasicBlock-122            [-1, 512, 7, 7]               0\n",
      "AdaptiveAvgPool2d-123            [-1, 512, 1, 1]               0\n",
      "          Linear-124                 [-1, 1000]         513,000\n",
      "          ResNet-125                 [-1, 1000]               0\n",
      "          Linear-126                  [-1, 512]         512,512\n",
      "         Dropout-127                  [-1, 512]               0\n",
      "     BatchNorm1d-128                  [-1, 512]           1,024\n",
      "          Linear-129                  [-1, 256]         131,328\n",
      "         Dropout-130                  [-1, 256]               0\n",
      "     BatchNorm1d-131                  [-1, 256]             512\n",
      "          Linear-132                  [-1, 128]          32,896\n",
      "         Dropout-133                  [-1, 128]               0\n",
      "     BatchNorm1d-134                  [-1, 128]             256\n",
      "          Linear-135                    [-1, 1]             129\n",
      "         Sigmoid-136                    [-1, 1]               0\n",
      "================================================================\n",
      "Total params: 22,476,329\n",
      "Trainable params: 22,476,329\n",
      "Non-trainable params: 0\n",
      "----------------------------------------------------------------\n",
      "Input size (MB): 0.57\n",
      "Forward/backward pass size (MB): 96.32\n",
      "Params size (MB): 85.74\n",
      "Estimated Total Size (MB): 182.63\n",
      "----------------------------------------------------------------\n"
     ]
    }
   ],
   "source": [
    "class Model(Module):\n",
    "    def __init__(self):\n",
    "        super(Model, self).__init__()\n",
    "        \n",
    "        self.base = torch.hub.load('pytorch/vision:v0.10.0', 'resnet34', pretrained=True)\n",
    "        \n",
    "        self.hidden1 = torch.nn.Linear(1000, 512)\n",
    "        self.bn1 = torch.nn.BatchNorm1d(512)\n",
    "        self.hidden2 = torch.nn.Linear(512, 256)\n",
    "        self.bn2 = torch.nn.BatchNorm1d(256)\n",
    "        self.hidden3 = torch.nn.Linear(256, 128)\n",
    "        self.bn3 = torch.nn.BatchNorm1d(128)\n",
    "        self.out = torch.nn.Linear(128, 1)\n",
    "        self.sig = torch.nn.Sigmoid()\n",
    "        \n",
    "        self.dropout = torch.nn.Dropout(0.5)\n",
    "        \n",
    "    def forward(self, x):\n",
    "        x = self.base(x)\n",
    "        x = self.hidden1(x)\n",
    "        x = self.dropout(x)\n",
    "        x = self.bn1(x)\n",
    "        x = self.hidden2(x)\n",
    "        x = self.dropout(x)\n",
    "        x = self.bn2(x)\n",
    "        x = self.hidden3(x)\n",
    "        x = self.dropout(x)\n",
    "        x = self.bn3(x)\n",
    "        x = self.out(x)\n",
    "        out = self.sig(x)\n",
    "        \n",
    "        return out\n",
    "\n",
    "model = Model()\n",
    "model = model.to(DEVICE)\n",
    "summary(model, (3, 224, 224))"
   ]
  },
  {
   "cell_type": "code",
   "execution_count": 12,
   "id": "c4f77512",
   "metadata": {
    "execution": {
     "iopub.execute_input": "2023-10-16T16:05:52.941224Z",
     "iopub.status.busy": "2023-10-16T16:05:52.940930Z",
     "iopub.status.idle": "2023-10-16T16:05:52.945754Z",
     "shell.execute_reply": "2023-10-16T16:05:52.944837Z"
    },
    "papermill": {
     "duration": 0.015503,
     "end_time": "2023-10-16T16:05:52.947508",
     "exception": false,
     "start_time": "2023-10-16T16:05:52.932005",
     "status": "completed"
    },
    "tags": []
   },
   "outputs": [],
   "source": [
    "criterion = torch.nn.BCELoss()\n",
    "\n",
    "optimizer = torch.optim.Adam(model.parameters())"
   ]
  },
  {
   "cell_type": "code",
   "execution_count": 13,
   "id": "719decee",
   "metadata": {
    "execution": {
     "iopub.execute_input": "2023-10-16T16:05:52.964631Z",
     "iopub.status.busy": "2023-10-16T16:05:52.963716Z",
     "iopub.status.idle": "2023-10-16T16:05:52.968926Z",
     "shell.execute_reply": "2023-10-16T16:05:52.968071Z"
    },
    "papermill": {
     "duration": 0.015636,
     "end_time": "2023-10-16T16:05:52.970699",
     "exception": false,
     "start_time": "2023-10-16T16:05:52.955063",
     "status": "completed"
    },
    "tags": []
   },
   "outputs": [],
   "source": [
    "def accuracy(pred, targ):\n",
    "    pos = 0\n",
    "    for pred, targ in zip(pred, targ):\n",
    "        if float(round(pred.item())) == targ.item():\n",
    "            pos += 1\n",
    "    return pos/BATCH_SIZE"
   ]
  },
  {
   "cell_type": "code",
   "execution_count": 14,
   "id": "02e61aec",
   "metadata": {
    "execution": {
     "iopub.execute_input": "2023-10-16T16:05:52.987047Z",
     "iopub.status.busy": "2023-10-16T16:05:52.986460Z",
     "iopub.status.idle": "2023-10-16T16:05:52.991998Z",
     "shell.execute_reply": "2023-10-16T16:05:52.991020Z"
    },
    "papermill": {
     "duration": 0.01561,
     "end_time": "2023-10-16T16:05:52.993579",
     "exception": false,
     "start_time": "2023-10-16T16:05:52.977969",
     "status": "completed"
    },
    "tags": []
   },
   "outputs": [],
   "source": [
    "class EarlyStopping:\n",
    "    def __init__(self, patience, min_delta):\n",
    "        self.patience = patience\n",
    "        self.min_delta = min_delta\n",
    "        self.counter = 0\n",
    "        self.min_validation_loss = float('inf')\n",
    "\n",
    "    def early_stop(self, validation_loss):\n",
    "        if validation_loss < self.min_validation_loss:\n",
    "            self.min_validation_loss = validation_loss\n",
    "            self.counter = 0\n",
    "        elif validation_loss > (self.min_validation_loss + self.min_delta):\n",
    "            self.counter += 1\n",
    "            if self.counter >= self.patience:\n",
    "                return True\n",
    "        return False\n",
    "\n",
    "es = EarlyStopping(2, 0.01)"
   ]
  },
  {
   "cell_type": "markdown",
   "id": "3ae8588c",
   "metadata": {
    "papermill": {
     "duration": 0.00743,
     "end_time": "2023-10-16T16:05:53.008086",
     "exception": false,
     "start_time": "2023-10-16T16:05:53.000656",
     "status": "completed"
    },
    "tags": []
   },
   "source": [
    "## Training"
   ]
  },
  {
   "cell_type": "code",
   "execution_count": 15,
   "id": "b1217ca6",
   "metadata": {
    "execution": {
     "iopub.execute_input": "2023-10-16T16:05:53.025258Z",
     "iopub.status.busy": "2023-10-16T16:05:53.024991Z",
     "iopub.status.idle": "2023-10-16T16:34:56.631729Z",
     "shell.execute_reply": "2023-10-16T16:34:56.630326Z"
    },
    "papermill": {
     "duration": 1743.617613,
     "end_time": "2023-10-16T16:34:56.633657",
     "exception": false,
     "start_time": "2023-10-16T16:05:53.016044",
     "status": "completed"
    },
    "tags": []
   },
   "outputs": [
    {
     "name": "stdout",
     "output_type": "stream",
     "text": [
      "\n",
      " ----------------------------------\n",
      "EPOCH: 1/10\n",
      "train loss: 0.16\n",
      "train accuracy: 0.943\n",
      "\n",
      "validation loss: 0.274\n",
      "validation accuracy: 0.875\n",
      "\n",
      " ----------------------------------\n",
      "EPOCH: 2/10\n",
      "train loss: 0.08\n",
      "train accuracy: 0.97\n",
      "\n",
      "validation loss: 0.072\n",
      "validation accuracy: 0.957\n",
      "\n",
      " ----------------------------------\n",
      "EPOCH: 3/10\n",
      "train loss: 0.063\n",
      "train accuracy: 0.977\n",
      "\n",
      "validation loss: 0.241\n",
      "validation accuracy: 0.896\n",
      "\n",
      " ----------------------------------\n",
      "EPOCH: 4/10\n",
      "train loss: 0.057\n",
      "train accuracy: 0.976\n",
      "\n",
      "validation loss: 0.038\n",
      "validation accuracy: 0.967\n",
      "\n",
      " ----------------------------------\n",
      "EPOCH: 5/10\n",
      "train loss: 0.046\n",
      "train accuracy: 0.982\n",
      "\n",
      "validation loss: 0.049\n",
      "validation accuracy: 0.965\n",
      "\n",
      " ----------------------------------\n",
      "EPOCH: 6/10\n",
      "train loss: 0.043\n",
      "train accuracy: 0.983\n",
      "\n",
      "validation loss: 0.032\n",
      "validation accuracy: 0.969\n",
      "\n",
      " ----------------------------------\n",
      "EPOCH: 7/10\n",
      "train loss: 0.038\n",
      "train accuracy: 0.985\n",
      "\n",
      "validation loss: 0.044\n",
      "validation accuracy: 0.967\n",
      "\n",
      " ----------------------------------\n",
      "EPOCH: 8/10\n",
      "train loss: 0.038\n",
      "train accuracy: 0.985\n",
      "\n",
      "validation loss: 0.025\n",
      "validation accuracy: 0.973\n",
      "\n",
      " ----------------------------------\n",
      "EPOCH: 9/10\n",
      "train loss: 0.03\n",
      "train accuracy: 0.988\n",
      "\n",
      "validation loss: 0.068\n",
      "validation accuracy: 0.96\n",
      "\n",
      " ----------------------------------\n",
      "EPOCH: 10/10\n",
      "train loss: 0.031\n",
      "train accuracy: 0.987\n",
      "\n",
      "validation loss: 0.031\n",
      "validation accuracy: 0.972\n"
     ]
    }
   ],
   "source": [
    "train_losses = []\n",
    "val_losses = []\n",
    "train_accs = []\n",
    "val_accs = []\n",
    "\n",
    "for epoch in range(NUM_EPOCHS):\n",
    "    print('\\n ----------------------------------')\n",
    "    print(f'EPOCH: {epoch + 1}/{NUM_EPOCHS}')\n",
    "        \n",
    "    train_loss = 0.0\n",
    "    train_acc = 0.0\n",
    "    validation_loss = 0.0\n",
    "    val_acc = 0.0\n",
    "    \n",
    "    model.train()\n",
    "    for images, labels in train_loader:\n",
    "        images, labels = images.to(DEVICE), labels.to(DEVICE)\n",
    "        \n",
    "        optimizer.zero_grad()\n",
    "        out = model(images)\n",
    "        labels = labels.unsqueeze(1)\n",
    "        labels = labels.float()\n",
    "        \n",
    "        loss = criterion(out, labels)\n",
    "        loss.backward()\n",
    "        \n",
    "        optimizer.step()\n",
    "        \n",
    "        train_loss += loss.item()\n",
    "        train_acc += accuracy(out, labels)\n",
    "        \n",
    "    train_loss = train_loss/len(train_loader)\n",
    "    train_losses.append(train_loss)\n",
    "    print(f'train loss: {round(train_loss, 3)}')\n",
    "    \n",
    "    train_acc = train_acc/len(train_loader)\n",
    "    train_accs.append(train_acc)\n",
    "    print(f'train accuracy: {round(train_acc, 3)}\\n')\n",
    "    \n",
    "    model.eval()\n",
    "    with torch.no_grad():\n",
    "        for images, labels in val_loader:\n",
    "            images, labels = images.to(DEVICE), labels.to(DEVICE)\n",
    "            \n",
    "            out = model(images)\n",
    "            \n",
    "            labels = labels.unsqueeze(1)\n",
    "            labels = labels.float()\n",
    "            \n",
    "            loss = criterion(out, labels)\n",
    "            \n",
    "            validation_loss += loss.item()\n",
    "            val_acc += accuracy(out, labels)\n",
    "            \n",
    "    validation_loss = validation_loss/len(val_loader)\n",
    "    val_losses.append(validation_loss)\n",
    "    print(f'validation loss: {round(validation_loss, 3)}')\n",
    "    \n",
    "    val_acc = val_acc/len(val_loader)\n",
    "    val_accs.append(val_acc)\n",
    "    print(f'validation accuracy: {round(val_acc, 3)}')\n",
    "    \n",
    "    if es.early_stop(validation_loss):\n",
    "        print('validation loss is not decresing - training stopped')\n",
    "        break"
   ]
  },
  {
   "cell_type": "markdown",
   "id": "6c64c15b",
   "metadata": {
    "papermill": {
     "duration": 0.008544,
     "end_time": "2023-10-16T16:34:56.651462",
     "exception": false,
     "start_time": "2023-10-16T16:34:56.642918",
     "status": "completed"
    },
    "tags": []
   },
   "source": [
    "## Test"
   ]
  },
  {
   "cell_type": "code",
   "execution_count": 16,
   "id": "a8e1d460",
   "metadata": {
    "execution": {
     "iopub.execute_input": "2023-10-16T16:34:56.670570Z",
     "iopub.status.busy": "2023-10-16T16:34:56.670284Z",
     "iopub.status.idle": "2023-10-16T16:35:27.541704Z",
     "shell.execute_reply": "2023-10-16T16:35:27.540802Z"
    },
    "papermill": {
     "duration": 30.893352,
     "end_time": "2023-10-16T16:35:27.553194",
     "exception": false,
     "start_time": "2023-10-16T16:34:56.659842",
     "status": "completed"
    },
    "tags": []
   },
   "outputs": [
    {
     "name": "stdout",
     "output_type": "stream",
     "text": [
      "TEST\n",
      "Loss: 0.02724857650834813\n",
      "Accuracy: 0.9495738636363636\n"
     ]
    }
   ],
   "source": [
    "test_loss = 0.0\n",
    "test_acc = 0.0\n",
    "\n",
    "for images, labels in test_loader:\n",
    "    images, labels = images.to(DEVICE), labels.to(DEVICE)\n",
    "            \n",
    "    out = model(images)\n",
    "    \n",
    "    labels = labels.unsqueeze(1)\n",
    "    labels = labels.float()\n",
    "            \n",
    "    loss = criterion(out, labels)\n",
    "    \n",
    "    test_loss += loss.item()\n",
    "    test_acc += accuracy(out, labels)\n",
    "    \n",
    "test_loss = test_loss/len(test_loader)\n",
    "test_acc = test_acc/len(test_loader)\n",
    "    \n",
    "print(\"TEST\")\n",
    "print(f'Loss: {test_loss}')\n",
    "print(f'Accuracy: {test_acc}')"
   ]
  },
  {
   "cell_type": "code",
   "execution_count": 17,
   "id": "5024c0c8",
   "metadata": {
    "execution": {
     "iopub.execute_input": "2023-10-16T16:35:27.573473Z",
     "iopub.status.busy": "2023-10-16T16:35:27.573207Z",
     "iopub.status.idle": "2023-10-16T16:35:27.833363Z",
     "shell.execute_reply": "2023-10-16T16:35:27.832527Z"
    },
    "papermill": {
     "duration": 0.273426,
     "end_time": "2023-10-16T16:35:27.835154",
     "exception": false,
     "start_time": "2023-10-16T16:35:27.561728",
     "status": "completed"
    },
    "tags": []
   },
   "outputs": [
    {
     "data": {
      "text/plain": [
       "<matplotlib.legend.Legend at 0x79932e1d6d40>"
      ]
     },
     "execution_count": 17,
     "metadata": {},
     "output_type": "execute_result"
    },
    {
     "data": {
      "image/png": "[encoded data removed]",
      "text/plain": [
       "<Figure size 1200x500 with 1 Axes>"
      ]
     },
     "metadata": {},
     "output_type": "display_data"
    }
   ],
   "source": [
    "plt.figure(figsize=(12, 5))\n",
    "plt.subplot(1, 2, 1)\n",
    "plt.plot(train_losses, label='Training Loss')\n",
    "plt.plot(val_losses, label='Validation Loss')\n",
    "plt.xlabel('Epoch')\n",
    "plt.ylabel('Loss')\n",
    "plt.legend()"
   ]
  },
  {
   "cell_type": "code",
   "execution_count": 18,
   "id": "2c742fad",
   "metadata": {
    "execution": {
     "iopub.execute_input": "2023-10-16T16:35:27.854268Z",
     "iopub.status.busy": "2023-10-16T16:35:27.854022Z",
     "iopub.status.idle": "2023-10-16T16:35:28.124995Z",
     "shell.execute_reply": "2023-10-16T16:35:28.124019Z"
    },
    "papermill": {
     "duration": 0.282741,
     "end_time": "2023-10-16T16:35:28.126791",
     "exception": false,
     "start_time": "2023-10-16T16:35:27.844050",
     "status": "completed"
    },
    "tags": []
   },
   "outputs": [
    {
     "data": {
      "text/plain": [
       "<matplotlib.legend.Legend at 0x79932e652020>"
      ]
     },
     "execution_count": 18,
     "metadata": {},
     "output_type": "execute_result"
    },
    {
     "data": {
      "image/png": "[encoded data removed]",
      "text/plain": [
       "<Figure size 1200x500 with 1 Axes>"
      ]
     },
     "metadata": {},
     "output_type": "display_data"
    }
   ],
   "source": [
    "plt.figure(figsize=(12, 5))\n",
    "plt.subplot(1, 2, 1)\n",
    "plt.plot(train_accs, label='Train accuracy')\n",
    "plt.plot(val_accs, label='Validation accuracy')\n",
    "plt.xlabel('Epoch')\n",
    "plt.ylabel('Loss')\n",
    "plt.legend()"
   ]
  },
  {
   "cell_type": "markdown",
   "id": "8a6545c4",
   "metadata": {
    "papermill": {
     "duration": 0.009444,
     "end_time": "2023-10-16T16:35:28.145670",
     "exception": false,
     "start_time": "2023-10-16T16:35:28.136226",
     "status": "completed"
    },
    "tags": []
   },
   "source": [
    "## Save model"
   ]
  },
  {
   "cell_type": "code",
   "execution_count": 19,
   "id": "a2eb82d5",
   "metadata": {
    "execution": {
     "iopub.execute_input": "2023-10-16T16:35:28.167274Z",
     "iopub.status.busy": "2023-10-16T16:35:28.166708Z",
     "iopub.status.idle": "2023-10-16T16:35:28.370652Z",
     "shell.execute_reply": "2023-10-16T16:35:28.369566Z"
    },
    "papermill": {
     "duration": 0.217325,
     "end_time": "2023-10-16T16:35:28.372878",
     "exception": false,
     "start_time": "2023-10-16T16:35:28.155553",
     "status": "completed"
    },
    "tags": []
   },
   "outputs": [],
   "source": [
    "torch.save(model.state_dict(), 'model.pth')"
   ]
  }
 ],
 "metadata": {
  "kernelspec": {
   "display_name": "Python 3",
   "language": "python",
   "name": "python3"
  },
  "language_info": {
   "codemirror_mode": {
    "name": "ipython",
    "version": 3
   },
   "file_extension": ".py",
   "mimetype": "text/x-python",
   "name": "python",
   "nbconvert_exporter": "python",
   "pygments_lexer": "ipython3",
   "version": "3.10.12"
  },
  "papermill": {
   "default_parameters": {},
   "duration": 1810.129626,
   "end_time": "2023-10-16T16:35:30.895370",
   "environment_variables": {},
   "exception": null,
   "input_path": "__notebook__.ipynb",
   "output_path": "__notebook__.ipynb",
   "parameters": {},
   "start_time": "2023-10-16T16:05:20.765744",
   "version": "2.4.0"
  }
 },
 "nbformat": 4,
 "nbformat_minor": 5
}

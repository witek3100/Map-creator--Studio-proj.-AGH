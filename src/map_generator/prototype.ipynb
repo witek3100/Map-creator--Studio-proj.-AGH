{
 "cells": [
  {
   "cell_type": "code",
   "execution_count": 33,
   "outputs": [
    {
     "name": "stderr",
     "output_type": "stream",
     "text": [
      "Using cache found in /home/witek/.cache/torch/hub/pytorch_vision_v0.10.0\n",
      "/home/witek/anaconda3/envs/main/lib/python3.10/site-packages/torchvision/models/_utils.py:208: UserWarning: The parameter 'pretrained' is deprecated since 0.13 and may be removed in the future, please use 'weights' instead.\n",
      "  warnings.warn(\n",
      "/home/witek/anaconda3/envs/main/lib/python3.10/site-packages/torchvision/models/_utils.py:223: UserWarning: Arguments other than a weight enum or `None` for 'weights' are deprecated since 0.13 and may be removed in the future. The current behavior is equivalent to passing `weights=ResNet34_Weights.IMAGENET1K_V1`. You can also use `weights=ResNet34_Weights.DEFAULT` to get the most up-to-date weights.\n",
      "  warnings.warn(msg)\n"
     ]
    }
   ],
   "source": [
    "import os\n",
    "import math\n",
    "from PIL import Image\n",
    "from config import BASE_DIR\n",
    "import numpy as np\n",
    "import matplotlib.pyplot as plt\n",
    "from src.ml.scripts.predict import predict\n",
    "\n",
    "image = Image.open(os.path.join(BASE_DIR, 'data/satellite_images/ld.tif'))\n",
    "\n",
    "tile_size = 50\n",
    "\n",
    "image_size = list(map(lambda x : math.floor(x / 50), image.size))\n",
    "\n",
    "tiles = np.empty(image_size, dtype=object)\n",
    "\n",
    "for i in range(0, tiles.shape[0]):\n",
    "    for j in range(0, tiles.shape[1]):\n",
    "        x = i * tile_size\n",
    "        y = j * tile_size\n",
    "        tile = image.crop((x, y, x + tile_size, y + tile_size))\n",
    "        tiles[i, j] = np.array(tile)\n",
    "\n",
    "predictions = predict('model1', tiles.flatten())\n",
    "\n",
    "pred_map = np.array(predictions).reshape(image_size)"
   ],
   "metadata": {
    "collapsed": false,
    "ExecuteTime": {
     "end_time": "2023-11-20T15:08:12.309785320Z",
     "start_time": "2023-11-20T15:07:09.874395821Z"
    }
   },
   "id": "5da7ac65d177c42d"
  },
  {
   "cell_type": "code",
   "execution_count": 34,
   "outputs": [],
   "source": [
    "\n",
    "for i in range(0, pred_map.shape[0]):\n",
    "    for j in range(0, pred_map.shape[1]):\n",
    "        x = i * tile_size\n",
    "        y = j * tile_size\n",
    "\n",
    "        if pred_map[i, j]:\n",
    "            region = image.crop((x, y, x + tile_size, y + tile_size))\n",
    "            red_channel = region.split()[0]\n",
    "            red_channel = red_channel.point(lambda p: p * 1.5)\n",
    "            new_region = Image.merge(\"RGB\", (red_channel, region.split()[1], region.split()[2]))\n",
    "            image.paste(new_region, (x, y, x + tile_size, y + tile_size))\n",
    "\n",
    "image.show()"
   ],
   "metadata": {
    "collapsed": false,
    "ExecuteTime": {
     "end_time": "2023-11-20T15:08:13.666944092Z",
     "start_time": "2023-11-20T15:08:12.309618500Z"
    }
   },
   "id": "1aa6c5ef6642ad4b"
  },
  {
   "cell_type": "code",
   "execution_count": 35,
   "outputs": [
    {
     "name": "stderr",
     "output_type": "stream",
     "text": [
      "/tmp/ipykernel_10044/1928208568.py:3: DeprecationWarning: Please use `label` from the `scipy.ndimage` namespace, the `scipy.ndimage.measurements` namespace is deprecated.\n",
      "  pred_map, clusters = measurements.label(pred_map)\n"
     ]
    },
    {
     "data": {
      "text/plain": "<matplotlib.image.AxesImage at 0x7ff17c14faf0>"
     },
     "execution_count": 35,
     "metadata": {},
     "output_type": "execute_result"
    },
    {
     "data": {
      "text/plain": "<Figure size 640x480 with 1 Axes>",
      "image/png": "[encoded data removed]"
     },
     "metadata": {},
     "output_type": "display_data"
    }
   ],
   "source": [
    "from scipy.ndimage import measurements\n",
    "\n",
    "pred_map, clusters = measurements.label(pred_map)\n",
    "plt.imshow(pred_map * 10, cmap='gray')"
   ],
   "metadata": {
    "collapsed": false,
    "ExecuteTime": {
     "end_time": "2023-11-20T15:08:13.768038216Z",
     "start_time": "2023-11-20T15:08:13.670084883Z"
    }
   },
   "id": "4ba8c6c848bb7dc3"
  },
  {
   "cell_type": "code",
   "execution_count": 36,
   "outputs": [],
   "source": [
    "clusters_to_filter = [cluster for cluster in np.unique(pred_map) if np.count_nonzero(pred_map == cluster) == 1]\n",
    "mask = np.isin(pred_map, clusters_to_filter)\n",
    "pred_map[mask] = 0"
   ],
   "metadata": {
    "collapsed": false,
    "ExecuteTime": {
     "end_time": "2023-11-20T15:08:13.813523695Z",
     "start_time": "2023-11-20T15:08:13.805509703Z"
    }
   },
   "id": "33e96cd78d39f28c"
  },
  {
   "cell_type": "code",
   "execution_count": 37,
   "outputs": [
    {
     "data": {
      "text/plain": "<matplotlib.image.AxesImage at 0x7ff16f6f4ca0>"
     },
     "execution_count": 37,
     "metadata": {},
     "output_type": "execute_result"
    },
    {
     "data": {
      "text/plain": "<Figure size 640x480 with 1 Axes>",
      "image/png": "[encoded data removed]"
     },
     "metadata": {},
     "output_type": "display_data"
    }
   ],
   "source": [
    "plt.imshow(pred_map, cmap='gray')"
   ],
   "metadata": {
    "collapsed": false,
    "ExecuteTime": {
     "end_time": "2023-11-20T15:08:13.866563405Z",
     "start_time": "2023-11-20T15:08:13.805752797Z"
    }
   },
   "id": "7ce97efe9ff4ec67"
  },
  {
   "cell_type": "code",
   "execution_count": 37,
   "outputs": [],
   "source": [],
   "metadata": {
    "collapsed": false,
    "ExecuteTime": {
     "end_time": "2023-11-20T15:08:13.906616803Z",
     "start_time": "2023-11-20T15:08:13.864041289Z"
    }
   },
   "id": "1bcf41f6ef5b473a"
  }
 ],
 "metadata": {
  "kernelspec": {
   "display_name": "Python 3",
   "language": "python",
   "name": "python3"
  },
  "language_info": {
   "codemirror_mode": {
    "name": "ipython",
    "version": 2
   },
   "file_extension": ".py",
   "mimetype": "text/x-python",
   "name": "python",
   "nbconvert_exporter": "python",
   "pygments_lexer": "ipython2",
   "version": "2.7.6"
  }
 },
 "nbformat": 4,
 "nbformat_minor": 5
}
